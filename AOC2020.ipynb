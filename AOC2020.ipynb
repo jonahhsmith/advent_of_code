{
 "metadata": {
  "language_info": {
   "codemirror_mode": {
    "name": "ipython",
    "version": 3
   },
   "file_extension": ".py",
   "mimetype": "text/x-python",
   "name": "python",
   "nbconvert_exporter": "python",
   "pygments_lexer": "ipython3",
   "version": "3.8.5-final"
  },
  "orig_nbformat": 2,
  "kernelspec": {
   "name": "python3",
   "display_name": "Python 3.8.5 64-bit",
   "metadata": {
    "interpreter": {
     "hash": "98b3caed183d3c77e2e39d1172a4f90e71ab0d8f0dec0eade048e59ebf428d89"
    }
   }
  }
 },
 "nbformat": 4,
 "nbformat_minor": 2,
 "cells": [
  {
   "source": [
    "# Advent of Code"
   ],
   "cell_type": "markdown",
   "metadata": {}
  },
  {
   "source": [
    "import pandas as pd\n",
    "import numpy as np\n",
    "import aocd  # https://github.com/wimglenn/advent-of-code-data\n",
    "import collections\n",
    "import itertools\n",
    "import re"
   ],
   "cell_type": "code",
   "metadata": {},
   "execution_count": 1,
   "outputs": []
  },
  {
   "source": [
    "## Day 1"
   ],
   "cell_type": "markdown",
   "metadata": {}
  },
  {
   "cell_type": "code",
   "execution_count": 2,
   "metadata": {},
   "outputs": [],
   "source": [
    "d1 = aocd.get_data(day=1)"
   ]
  },
  {
   "cell_type": "code",
   "execution_count": 4,
   "metadata": {},
   "outputs": [],
   "source": [
    "def aoc11(data):\n",
    "    s1 = set(int(x) for x in data.split('\\n'))\n",
    "    s2 = set(2020 - int(x) for x in data.split('\\n'))\n",
    "    a1 = np.prod(list(s1.intersection(s2)))\n",
    "    return a1"
   ]
  },
  {
   "cell_type": "code",
   "execution_count": 6,
   "metadata": {},
   "outputs": [],
   "source": [
    "def aoc12(data):\n",
    "    s1 = set(int(x) for x in data.split('\\n'))\n",
    "    s2 = set(2020 - int(x) for x in data.split('\\n'))\n",
    "    a2 = np.prod(list(set(a for a in s1 for b in s1 if a+b in s2)))\n",
    "    return a2"
   ]
  },
  {
   "cell_type": "code",
   "execution_count": 5,
   "metadata": {},
   "outputs": [
    {
     "output_type": "stream",
     "name": "stdout",
     "text": [
      "108 µs ± 276 ns per loop (mean ± std. dev. of 7 runs, 10000 loops each)\n"
     ]
    }
   ],
   "source": [
    "%timeit aoc11(d1)"
   ]
  },
  {
   "cell_type": "code",
   "execution_count": 7,
   "metadata": {},
   "outputs": [
    {
     "output_type": "stream",
     "name": "stdout",
     "text": [
      "3.11 ms ± 29.8 µs per loop (mean ± std. dev. of 7 runs, 100 loops each)\n"
     ]
    }
   ],
   "source": [
    "%timeit aoc12(d1)"
   ]
  },
  {
   "cell_type": "code",
   "execution_count": 4,
   "metadata": {},
   "outputs": [],
   "source": [
    "s1 = set(int(x) for x in d1.split('\\n'))\n",
    "s2 = set(2020 - int(x) for x in d1.split('\\n'))"
   ]
  },
  {
   "cell_type": "code",
   "execution_count": 5,
   "metadata": {},
   "outputs": [],
   "source": [
    "a1 = np.prod(list(s1.intersection(s2)))"
   ]
  },
  {
   "cell_type": "code",
   "execution_count": 35,
   "metadata": {},
   "outputs": [
    {
     "output_type": "stream",
     "name": "stdout",
     "text": [
      "\u001b[33mYou don't seem to be solving the right level.  Did you already complete it? [Return to Day 1]\u001b[0m\n"
     ]
    },
    {
     "output_type": "execute_result",
     "data": {
      "text/plain": [
       "<Response [200]>"
      ]
     },
     "metadata": {},
     "execution_count": 35
    }
   ],
   "source": [
    "aocd.submit(a1, part='a', day=1, year=2020)"
   ]
  },
  {
   "cell_type": "code",
   "execution_count": 6,
   "metadata": {},
   "outputs": [],
   "source": [
    "a2 = np.prod(list(set(a for a in s1 for b in s1 if a+b in s2)))"
   ]
  },
  {
   "cell_type": "code",
   "execution_count": 46,
   "metadata": {},
   "outputs": [
    {
     "output_type": "stream",
     "name": "stdout",
     "text": [
      "\u001b[32mThat's the right answer!  You are one gold star closer to saving your vacation.You have completed Day 1! You can [Shareon\n  Twitter\nMastodon] this victory or [Return to Your Advent Calendar].\u001b[0m\n"
     ]
    },
    {
     "output_type": "execute_result",
     "data": {
      "text/plain": [
       "<Response [200]>"
      ]
     },
     "metadata": {},
     "execution_count": 46
    }
   ],
   "source": [
    "aocd.submit(a2, part='b', day=1, year=2020)"
   ]
  },
  {
   "source": [
    "## Day 2"
   ],
   "cell_type": "markdown",
   "metadata": {}
  },
  {
   "cell_type": "code",
   "execution_count": 8,
   "metadata": {},
   "outputs": [],
   "source": [
    "d2 = aocd.get_data(day=2)"
   ]
  },
  {
   "cell_type": "code",
   "execution_count": 22,
   "metadata": {},
   "outputs": [],
   "source": [
    "pswd = d2.split('\\n')"
   ]
  },
  {
   "cell_type": "code",
   "execution_count": 26,
   "metadata": {
    "tags": []
   },
   "outputs": [
    {
     "output_type": "execute_result",
     "data": {
      "text/plain": [
       "458"
      ]
     },
     "metadata": {},
     "execution_count": 26
    }
   ],
   "source": [
    "t = 0\n",
    "for e in pswd:\n",
    "    p_list = e.split()\n",
    "    low = int(p_list[0].split('-')[0])\n",
    "    high = int(p_list[0].split('-')[1])\n",
    "    ltr = p_list[1][0]\n",
    "    pwd = p_list[2]\n",
    "    if pwd.count(ltr) >= low and pwd.count(ltr) <= high:\n",
    "        t +=1\n",
    "\n",
    "t\n"
   ]
  },
  {
   "cell_type": "code",
   "execution_count": 28,
   "metadata": {},
   "outputs": [
    {
     "output_type": "execute_result",
     "data": {
      "text/plain": [
       "342"
      ]
     },
     "metadata": {},
     "execution_count": 28
    }
   ],
   "source": [
    "t = 0\n",
    "for e in pswd:\n",
    "    p_list = e.split()\n",
    "    low = int(p_list[0].split('-')[0])\n",
    "    high = int(p_list[0].split('-')[1])\n",
    "    ltr = p_list[1][0]\n",
    "    pwd = p_list[2]\n",
    "    if (pwd[low-1] == ltr and pwd[high-1] != ltr) or (pwd[low-1] != ltr and pwd[high-1] == ltr):\n",
    "        t +=1\n",
    "\n",
    "t"
   ]
  },
  {
   "source": [
    "## Day 3"
   ],
   "cell_type": "markdown",
   "metadata": {}
  },
  {
   "cell_type": "code",
   "execution_count": 2,
   "metadata": {},
   "outputs": [],
   "source": [
    "d3 = aocd.get_data(day=3)"
   ]
  },
  {
   "cell_type": "code",
   "execution_count": 33,
   "metadata": {
    "tags": []
   },
   "outputs": [
    {
     "output_type": "stream",
     "name": "stdout",
     "text": [
      "211\n3584591857\n"
     ]
    }
   ],
   "source": [
    "def slope(var):\n",
    "    out = 0\n",
    "    x = var // 10\n",
    "    y = var % 10\n",
    "    for i,e in enumerate(d3.split()[::y]):\n",
    "        if i == 0:\n",
    "            next\n",
    "        if e[(i*x) % len(e)]=='#':\n",
    "            out += 1 \n",
    "    return out\n",
    "\n",
    "#part 1\n",
    "print(slope(31))\n",
    "\n",
    "#part 2\n",
    "p=1\n",
    "for s in [11,31,51,71,12]:\n",
    "    p *= slope(s)\n",
    "print(p)\n"
   ]
  },
  {
   "source": [
    "## Day 4"
   ],
   "cell_type": "markdown",
   "metadata": {}
  },
  {
   "cell_type": "code",
   "execution_count": 36,
   "metadata": {},
   "outputs": [],
   "source": [
    "d4 = aocd.get_data(day=4, year=2020)"
   ]
  },
  {
   "cell_type": "code",
   "execution_count": 41,
   "metadata": {},
   "outputs": [],
   "source": [
    "passports = d4.split('\\n\\n')"
   ]
  },
  {
   "cell_type": "code",
   "execution_count": 49,
   "metadata": {},
   "outputs": [
    {
     "output_type": "stream",
     "name": "stdout",
     "text": [
      "200\n"
     ]
    }
   ],
   "source": [
    "#Part 1\n",
    "d4 = aocd.get_data(day=4, year=2020)\n",
    "passports = d4.split('\\n\\n')\n",
    "valdict = {'byr':1,'eyr':1,'pid':1,'hgt':1,'iyr':1, 'ecl':1, 'hcl':1,'cid':0}\n",
    "valid = 0\n",
    "for passport in passports:\n",
    "    if sum([valdict.get(p.split(':')[0]) for p in passport.split()]) == 7:\n",
    "        valid += 1\n",
    "print(valid)"
   ]
  },
  {
   "cell_type": "code",
   "execution_count": 86,
   "metadata": {},
   "outputs": [],
   "source": [
    "def passport_check(byr='0', eyr='0',pid='0',hgt='0',iyr='0', ecl='0', hcl='0',cid=None):\n",
    "    if int(byr) < 1920 or int(byr) >2002:\n",
    "        return 0\n",
    "    if int(iyr) < 2010 or int(iyr) >2020:\n",
    "        return 0\n",
    "    if int(eyr) < 2020 or int(eyr) >2030:\n",
    "        return 0\n",
    "\n",
    "    if hgt[-2:]=='in':\n",
    "        if int(hgt[:-2]) < 59 or int(hgt[:-2]) > 76:\n",
    "            return 0\n",
    "    elif hgt[-2:]=='cm':\n",
    "        if int(hgt[:-2]) < 150 or int(hgt[:-2]) > 193:\n",
    "            return 0\n",
    "    else:\n",
    "        return 0\n",
    "\n",
    "    if not(re.match(r'^#[a-f0-9]{6,6}$',hcl)):\n",
    "        return 0\n",
    "\n",
    "    if ecl not in ('amb', 'blu', 'brn', 'gry', 'grn', 'hzl', 'oth'):\n",
    "        return 0\n",
    "\n",
    "    if not(re.match(r'^[0-9]{9,9}$',pid)):\n",
    "        return 0\n",
    "\n",
    "    return 1\n",
    "    "
   ]
  },
  {
   "cell_type": "code",
   "execution_count": 87,
   "metadata": {},
   "outputs": [
    {
     "output_type": "stream",
     "name": "stdout",
     "text": [
      "116\n"
     ]
    }
   ],
   "source": [
    "valid = 0\n",
    "for passport in passports:\n",
    "    valid += passport_check(**{p.split(':')[0] : p.split(':')[1] for p in passport.split()})\n",
    "print(valid)"
   ]
  },
  {
   "cell_type": "code",
   "execution_count": 155,
   "metadata": {},
   "outputs": [],
   "source": [
    "passports = [p.split() for p in d4.split('\\n\\n')]\n",
    "passports_dict = []\n",
    "for p in passports:\n",
    "    passports_dict.append(dict(e.split(':') for e in p))"
   ]
  },
  {
   "cell_type": "code",
   "execution_count": 158,
   "metadata": {},
   "outputs": [],
   "source": [
    "df = pd.DataFrame(passports_dict)"
   ]
  },
  {
   "cell_type": "code",
   "execution_count": 159,
   "metadata": {},
   "outputs": [
    {
     "output_type": "execute_result",
     "data": {
      "text/plain": [
       "200"
      ]
     },
     "metadata": {},
     "execution_count": 159
    }
   ],
   "source": [
    "df.dropna(subset=[\"iyr\", \"ecl\", \"hgt\", \"pid\", \"byr\", \"hcl\", \"eyr\"]).shape[0]"
   ]
  },
  {
   "cell_type": "code",
   "execution_count": 172,
   "metadata": {},
   "outputs": [],
   "source": [
    "# pd.to_numeric(df.hgt.str[:-2], errors='coerce') > 1\n",
    "df['byr'] = pd.to_numeric(df.byr,errors='coerce')\n",
    "df['eyr'] = pd.to_numeric(df.eyr,errors='coerce')\n",
    "df['iyr'] = pd.to_numeric(df.iyr,errors='coerce')\n",
    "df['hgtn'] = pd.to_numeric(df.hgt.str[:-2],errors='coerce')\n",
    "df['hgtl'] = df.hgt.str[-2:]"
   ]
  },
  {
   "cell_type": "code",
   "execution_count": 186,
   "metadata": {},
   "outputs": [
    {
     "output_type": "execute_result",
     "data": {
      "text/plain": [
       "        byr     eyr        pid    hgt     iyr  ecl      hcl  cid   hgtn hgtl\n",
       "0    1937.0  2030.0  154364481  158cm  2015.0  brn  #c0946f  155  158.0   cm\n",
       "2    1953.0  2023.0  282499883  181cm  2011.0  brn  #341e13  NaN  181.0   cm\n",
       "4    1966.0  2020.0  900693718  153cm  2014.0  gry  #866857  NaN  153.0   cm\n",
       "5    1939.0  2020.0  900852891  162cm  2020.0  oth  #b6652a  NaN  162.0   cm\n",
       "7    1938.0  2020.0  136823471  180cm  2011.0  gry  #c0946f  146  180.0   cm\n",
       "..      ...     ...        ...    ...     ...  ...      ...  ...    ...  ...\n",
       "252  1979.0  2028.0  874418818  166cm  2014.0  brn  #5311ca  202  166.0   cm\n",
       "253  1987.0  2027.0  986096798  161cm  2019.0  grn  #6b5442   74  161.0   cm\n",
       "255  1965.0  2023.0  214991920  185cm  2010.0  brn  #866857  236  185.0   cm\n",
       "256  1948.0  2025.0  885169578  175cm  2010.0  hzl  #18171d  NaN  175.0   cm\n",
       "262  1979.0  2023.0  945115479  188cm  2014.0  blu  #b6652a  NaN  188.0   cm\n",
       "\n",
       "[116 rows x 10 columns]"
      ],
      "text/html": "<div>\n<style scoped>\n    .dataframe tbody tr th:only-of-type {\n        vertical-align: middle;\n    }\n\n    .dataframe tbody tr th {\n        vertical-align: top;\n    }\n\n    .dataframe thead th {\n        text-align: right;\n    }\n</style>\n<table border=\"1\" class=\"dataframe\">\n  <thead>\n    <tr style=\"text-align: right;\">\n      <th></th>\n      <th>byr</th>\n      <th>eyr</th>\n      <th>pid</th>\n      <th>hgt</th>\n      <th>iyr</th>\n      <th>ecl</th>\n      <th>hcl</th>\n      <th>cid</th>\n      <th>hgtn</th>\n      <th>hgtl</th>\n    </tr>\n  </thead>\n  <tbody>\n    <tr>\n      <th>0</th>\n      <td>1937.0</td>\n      <td>2030.0</td>\n      <td>154364481</td>\n      <td>158cm</td>\n      <td>2015.0</td>\n      <td>brn</td>\n      <td>#c0946f</td>\n      <td>155</td>\n      <td>158.0</td>\n      <td>cm</td>\n    </tr>\n    <tr>\n      <th>2</th>\n      <td>1953.0</td>\n      <td>2023.0</td>\n      <td>282499883</td>\n      <td>181cm</td>\n      <td>2011.0</td>\n      <td>brn</td>\n      <td>#341e13</td>\n      <td>NaN</td>\n      <td>181.0</td>\n      <td>cm</td>\n    </tr>\n    <tr>\n      <th>4</th>\n      <td>1966.0</td>\n      <td>2020.0</td>\n      <td>900693718</td>\n      <td>153cm</td>\n      <td>2014.0</td>\n      <td>gry</td>\n      <td>#866857</td>\n      <td>NaN</td>\n      <td>153.0</td>\n      <td>cm</td>\n    </tr>\n    <tr>\n      <th>5</th>\n      <td>1939.0</td>\n      <td>2020.0</td>\n      <td>900852891</td>\n      <td>162cm</td>\n      <td>2020.0</td>\n      <td>oth</td>\n      <td>#b6652a</td>\n      <td>NaN</td>\n      <td>162.0</td>\n      <td>cm</td>\n    </tr>\n    <tr>\n      <th>7</th>\n      <td>1938.0</td>\n      <td>2020.0</td>\n      <td>136823471</td>\n      <td>180cm</td>\n      <td>2011.0</td>\n      <td>gry</td>\n      <td>#c0946f</td>\n      <td>146</td>\n      <td>180.0</td>\n      <td>cm</td>\n    </tr>\n    <tr>\n      <th>...</th>\n      <td>...</td>\n      <td>...</td>\n      <td>...</td>\n      <td>...</td>\n      <td>...</td>\n      <td>...</td>\n      <td>...</td>\n      <td>...</td>\n      <td>...</td>\n      <td>...</td>\n    </tr>\n    <tr>\n      <th>252</th>\n      <td>1979.0</td>\n      <td>2028.0</td>\n      <td>874418818</td>\n      <td>166cm</td>\n      <td>2014.0</td>\n      <td>brn</td>\n      <td>#5311ca</td>\n      <td>202</td>\n      <td>166.0</td>\n      <td>cm</td>\n    </tr>\n    <tr>\n      <th>253</th>\n      <td>1987.0</td>\n      <td>2027.0</td>\n      <td>986096798</td>\n      <td>161cm</td>\n      <td>2019.0</td>\n      <td>grn</td>\n      <td>#6b5442</td>\n      <td>74</td>\n      <td>161.0</td>\n      <td>cm</td>\n    </tr>\n    <tr>\n      <th>255</th>\n      <td>1965.0</td>\n      <td>2023.0</td>\n      <td>214991920</td>\n      <td>185cm</td>\n      <td>2010.0</td>\n      <td>brn</td>\n      <td>#866857</td>\n      <td>236</td>\n      <td>185.0</td>\n      <td>cm</td>\n    </tr>\n    <tr>\n      <th>256</th>\n      <td>1948.0</td>\n      <td>2025.0</td>\n      <td>885169578</td>\n      <td>175cm</td>\n      <td>2010.0</td>\n      <td>hzl</td>\n      <td>#18171d</td>\n      <td>NaN</td>\n      <td>175.0</td>\n      <td>cm</td>\n    </tr>\n    <tr>\n      <th>262</th>\n      <td>1979.0</td>\n      <td>2023.0</td>\n      <td>945115479</td>\n      <td>188cm</td>\n      <td>2014.0</td>\n      <td>blu</td>\n      <td>#b6652a</td>\n      <td>NaN</td>\n      <td>188.0</td>\n      <td>cm</td>\n    </tr>\n  </tbody>\n</table>\n<p>116 rows × 10 columns</p>\n</div>"
     },
     "metadata": {},
     "execution_count": 186
    }
   ],
   "source": [
    "df[   (df.byr.between(1920, 2002))\n",
    "    & (df.iyr.between(2010, 2020))\n",
    "    & (df.eyr.between(2020, 2030))\n",
    "    & (df.ecl.isin([\"amb\", \"blu\", \"brn\", \"gry\", \"grn\", \"hzl\", \"oth\"]))\n",
    "    & (df.pid.str.match(r'^[0-9]{9}$'))\n",
    "    & (df.hcl.str.match(r'^#[a-f0-9]{\n",
    "        6}$'))\n",
    "    & ( ((df.hgtl == 'cm') & (df.hgtn.between(150,193))) |\n",
    "        ((df.hgtl == 'in') & (df.hgtn.between( 59, 76))) )\n",
    "    ]"
   ]
  },
  {
   "source": [
    "## Day 5\n"
   ],
   "cell_type": "markdown",
   "metadata": {}
  },
  {
   "cell_type": "code",
   "execution_count": 187,
   "metadata": {},
   "outputs": [],
   "source": [
    "d5 = aocd.get_data(day=5,year=2020)"
   ]
  },
  {
   "cell_type": "code",
   "execution_count": 202,
   "metadata": {},
   "outputs": [
    {
     "output_type": "execute_result",
     "data": {
      "text/plain": [
       "933"
      ]
     },
     "metadata": {},
     "execution_count": 202
    }
   ],
   "source": [
    "d5 = d5.replace('B','1')\n",
    "d5 = d5.replace('F','0')\n",
    "d5 = d5.replace('R','1')\n",
    "d5 = d5.replace('L','0')\n",
    "\n",
    "seat_val = []\n",
    "for seat in d5.split():\n",
    "    seat_val.append(int(seat[:7],2) * 8 + int(seat[7:],2))\n"
   ]
  },
  {
   "cell_type": "code",
   "execution_count": 195,
   "metadata": {},
   "outputs": [
    {
     "output_type": "execute_result",
     "data": {
      "text/plain": [
       "1865"
      ]
     },
     "metadata": {},
     "execution_count": 195
    }
   ],
   "source": [
    "max(seat_val)"
   ]
  },
  {
   "cell_type": "code",
   "execution_count": 206,
   "metadata": {},
   "outputs": [
    {
     "output_type": "stream",
     "name": "stdout",
     "text": [
      "711\n"
     ]
    }
   ],
   "source": [
    "for i in range(min(seat_val),max(seat_val)):\n",
    "    if i not in seat_val:\n",
    "        print(i)\n"
   ]
  },
  {
   "source": [
    "## Day 6"
   ],
   "cell_type": "markdown",
   "metadata": {}
  },
  {
   "cell_type": "code",
   "execution_count": 211,
   "metadata": {},
   "outputs": [],
   "source": [
    "d6 = aocd.get_data(day=6,year=2020)"
   ]
  },
  {
   "cell_type": "code",
   "execution_count": 235,
   "metadata": {},
   "outputs": [
    {
     "output_type": "stream",
     "name": "stdout",
     "text": [
      "6310\n"
     ]
    }
   ],
   "source": [
    "a = 0\n",
    "for q in d6.split('\\n\\n'):\n",
    "    a += len(collections.Counter(q.replace('\\n','')))\n",
    "\n",
    "print(a)"
   ]
  },
  {
   "cell_type": "code",
   "execution_count": 234,
   "metadata": {
    "tags": []
   },
   "outputs": [
    {
     "output_type": "stream",
     "name": "stdout",
     "text": [
      "3193\n"
     ]
    }
   ],
   "source": [
    "a=0\n",
    "for q in d6.split('\\n\\n'):\n",
    "    g_dict = collections.Counter(q.replace('\\n',''))\n",
    "    g_size = len(q.split())\n",
    "    for v in g_dict.values():\n",
    "        if v == g_size:\n",
    "            a += 1\n",
    "print(a)"
   ]
  },
  {
   "source": [
    "## Day 7"
   ],
   "cell_type": "markdown",
   "metadata": {}
  },
  {
   "cell_type": "code",
   "execution_count": 238,
   "metadata": {},
   "outputs": [],
   "source": [
    "d7 = aocd.get_data(day=7,year=2020)"
   ]
  },
  {
   "cell_type": "code",
   "execution_count": 242,
   "metadata": {},
   "outputs": [],
   "source": [
    "all_bags = d7.split('\\n')"
   ]
  },
  {
   "cell_type": "code",
   "execution_count": 312,
   "metadata": {
    "tags": []
   },
   "outputs": [],
   "source": [
    "# parse data into dict of dicts\n",
    "all_bag_list = {}\n",
    "for rule in all_bags:\n",
    "    bag_list = rule.split('bags contain')\n",
    "    container = bag_list[0].strip()\n",
    "    contents = bag_list[1].split(',')\n",
    "    nums = []\n",
    "    colors = []\n",
    "    for detail in contents:\n",
    "        nums.append(int(detail.replace('no other ','0 ').split()[0].strip()))\n",
    "        for color in re.split(r\"\\d \",detail)[1:]:\n",
    "            colors.append(color.split(' bag')[0])\n",
    "    all_bag_list[container] = dict(zip(colors,nums))\n"
   ]
  },
  {
   "cell_type": "code",
   "execution_count": 314,
   "metadata": {
    "tags": []
   },
   "outputs": [
    {
     "output_type": "stream",
     "name": "stdout",
     "text": [
      "161\n"
     ]
    }
   ],
   "source": [
    "\n",
    "# part 1\n",
    "out = ['shiny gold']\n",
    "\n",
    "restart = 1\n",
    "\n",
    "while restart == 1:\n",
    "    restart = 0\n",
    "    # look at all parent / child relationships\n",
    "    for parent, children in all_bag_list.items():\n",
    "\n",
    "        for child, num in children.items():\n",
    "            # test if each child is in the test set\n",
    "            # if the parent is already included skip, otherwise add parent and rerun from the beginning\n",
    "            if child in out and parent not in out:\n",
    "                out.append(parent)\n",
    "                restart = 1\n",
    "\n",
    "# find length of unique set and remove seed value\n",
    "print(len(set(out))-1)\n"
   ]
  },
  {
   "cell_type": "code",
   "execution_count": 351,
   "metadata": {},
   "outputs": [
    {
     "output_type": "stream",
     "name": "stdout",
     "text": [
      "30899\n"
     ]
    }
   ],
   "source": [
    "# PART 2\n",
    "\n",
    "new = [['shiny gold',1]]\n",
    "cnt = 0\n",
    "\n",
    "while len(new) != 0:\n",
    "    add_item, mult = new.pop()\n",
    "    for k,v in all_bag_list.get(add_item).items():\n",
    "        new.append([k,v * mult])\n",
    "        cnt += v * mult\n",
    "print(cnt)"
   ]
  },
  {
   "source": [
    "## Day 8"
   ],
   "cell_type": "markdown",
   "metadata": {}
  },
  {
   "cell_type": "code",
   "execution_count": 352,
   "metadata": {},
   "outputs": [],
   "source": [
    "d8 = aocd.get_data(day=8, year=2020)"
   ]
  },
  {
   "cell_type": "code",
   "execution_count": 390,
   "metadata": {},
   "outputs": [],
   "source": [
    "inst = [(x.split()[0],int(x.split()[1])) for x in d8.split('\\n')]"
   ]
  },
  {
   "cell_type": "code",
   "execution_count": 364,
   "metadata": {},
   "outputs": [
    {
     "output_type": "stream",
     "name": "stdout",
     "text": [
      "1753\n"
     ]
    }
   ],
   "source": [
    "accumlator = 0\n",
    "locations = set()\n",
    "location = 0\n",
    "\n",
    "while location not in locations or location >= len(inst):\n",
    "    locations.add(location)\n",
    "    if inst[location][0] == 'acc':\n",
    "        accumlator += inst[location][1]\n",
    "        location += 1\n",
    "    elif inst[location][0] == 'jmp':\n",
    "        location += inst[location][1]\n",
    "    elif inst[location][0] == 'nop':\n",
    "        location += 1\n",
    "\n",
    "print(accumlator)"
   ]
  },
  {
   "cell_type": "code",
   "execution_count": 394,
   "metadata": {},
   "outputs": [
    {
     "output_type": "stream",
     "name": "stdout",
     "text": [
      "641 733\n"
     ]
    }
   ],
   "source": [
    "for i,e in enumerate(inst):\n",
    "    accumlator = 0\n",
    "    locations = set()\n",
    "    location = 0\n",
    "\n",
    "    while location not in locations and location < len(inst):\n",
    "        locations.add(location)\n",
    "        if inst[location][0] == 'acc':\n",
    "            accumlator += inst[location][1]\n",
    "            location += 1\n",
    "        elif inst[location][0] == 'nop' or (inst[location][0] == 'jmp' and location == i):\n",
    "            location += 1\n",
    "        elif inst[location][0] == 'jmp' or (inst[location][0] == 'nop' and location == i):\n",
    "            location += inst[location][1]\n",
    "    \n",
    "    if location >= len(inst):\n",
    "        print(location, accumlator)\n",
    "        # print(location, accumlator)\n"
   ]
  },
  {
   "source": [
    "\n",
    "## Day 9"
   ],
   "cell_type": "markdown",
   "metadata": {}
  },
  {
   "cell_type": "code",
   "execution_count": 395,
   "metadata": {},
   "outputs": [],
   "source": [
    "d9 = aocd.get_data(day=9, year=2020)"
   ]
  },
  {
   "cell_type": "code",
   "execution_count": 424,
   "metadata": {
    "tags": []
   },
   "outputs": [
    {
     "output_type": "stream",
     "name": "stdout",
     "text": [
      "25918798\n"
     ]
    }
   ],
   "source": [
    "base = [int(x) for x in d9.split()]\n",
    "list_length = 25\n",
    "\n",
    "for i in range(len(base) - list_length):\n",
    "    sum_set = set(sum(x) for x in itertools.combinations(base[i:i+list_length],2))\n",
    "    # print(i, sum_set, base[i + list_length])\n",
    "    if base[i + list_length] not in sum_set:\n",
    "        test_num = base[i + list_length]\n",
    "        break\n",
    "print(test_num)\n"
   ]
  },
  {
   "cell_type": "code",
   "execution_count": 435,
   "metadata": {},
   "outputs": [
    {
     "output_type": "stream",
     "name": "stdout",
     "text": [
      "408 17\n3340942\n"
     ]
    }
   ],
   "source": [
    "for list_length in range(2,len(base)):\n",
    "    out = 0\n",
    "    for i in range(len(base) - list_length):\n",
    "        test_list = base[i:i+list_length]\n",
    "        if sum(test_list) == test_num:\n",
    "            out = min(test_list) + max(test_list)\n",
    "            break\n",
    "    if out != 0:\n",
    "        break\n",
    "\n",
    "print(out)"
   ]
  },
  {
   "source": [
    "## Day 10"
   ],
   "cell_type": "markdown",
   "metadata": {}
  },
  {
   "cell_type": "code",
   "execution_count": 436,
   "metadata": {},
   "outputs": [],
   "source": [
    "d10 = aocd.get_data(day=10,year=2020)"
   ]
  },
  {
   "cell_type": "code",
   "execution_count": 456,
   "metadata": {},
   "outputs": [],
   "source": [
    "list10 = [int(x) for x in d10.split()]"
   ]
  },
  {
   "cell_type": "code",
   "execution_count": 457,
   "metadata": {},
   "outputs": [],
   "source": [
    "list10.sort()\n"
   ]
  },
  {
   "cell_type": "code",
   "execution_count": 451,
   "metadata": {},
   "outputs": [
    {
     "output_type": "stream",
     "name": "stdout",
     "text": [
      "2812\n"
     ]
    }
   ],
   "source": [
    "ones = 0\n",
    "threes = 0 \n",
    "if list10[0] == 1:\n",
    "    ones += 1\n",
    "elif list10[0] == 3:\n",
    "    threes += 1\n",
    "\n",
    "\n",
    "for i in range(len(list10)-1):\n",
    "    if list10[i+1] - list10[i] == 1:\n",
    "        ones += 1\n",
    "    elif list10[i+1] - list10[i] == 3:\n",
    "        threes += 1\n",
    "\n",
    "print(ones*(threes+1))\n",
    "    "
   ]
  },
  {
   "cell_type": "code",
   "execution_count": 458,
   "metadata": {},
   "outputs": [],
   "source": [
    "list10.append(0)\n"
   ]
  },
  {
   "cell_type": "code",
   "execution_count": 459,
   "metadata": {},
   "outputs": [],
   "source": [
    "list10.sort()"
   ]
  },
  {
   "cell_type": "code",
   "execution_count": 463,
   "metadata": {},
   "outputs": [],
   "source": [
    "options = []\n",
    "for e in list10:\n",
    "    option = 0\n",
    "    if e+1 in list10:\n",
    "        option += 1\n",
    "    if e+2 in list10:\n",
    "        option += 1\n",
    "    if e+3 in list10:\n",
    "        option += 1\n",
    "    options.append(option)\n"
   ]
  },
  {
   "cell_type": "code",
   "execution_count": 476,
   "metadata": {},
   "outputs": [
    {
     "output_type": "execute_result",
     "data": {
      "text/plain": [
       "{0: 1, 1: 1}"
      ]
     },
     "metadata": {},
     "execution_count": 476
    }
   ],
   "source": [
    "test_dict = {0:1}\n",
    "test_dict[1] = test_dict.get(1,0) + test_dict.get(0,0)\n",
    "\n",
    "test_dict"
   ]
  },
  {
   "cell_type": "code",
   "execution_count": 478,
   "metadata": {},
   "outputs": [
    {
     "output_type": "execute_result",
     "data": {
      "text/plain": [
       "386869246296064"
      ]
     },
     "metadata": {},
     "execution_count": 478
    }
   ],
   "source": [
    "d10 = aocd.get_data(day=10,year=2020)\n",
    "list10 = [0] + [int(x) for x in d10.split()]\n",
    "list10.sort()\n",
    "\n",
    "path_dict = {0:1}\n",
    "for e in list10:\n",
    "    path_dict[e] = path_dict.get(e,0) + path_dict.get(e-1,0)\n",
    "    path_dict[e] = path_dict.get(e,0) + path_dict.get(e-2,0)\n",
    "    path_dict[e] = path_dict.get(e,0) + path_dict.get(e-3,0)\n",
    "        \n",
    "\n",
    "path_dict.get(max(list10))"
   ]
  },
  {
   "source": [
    "## Day 11"
   ],
   "cell_type": "markdown",
   "metadata": {}
  },
  {
   "cell_type": "code",
   "execution_count": 483,
   "metadata": {},
   "outputs": [],
   "source": [
    "d11 = aocd.get_data(day=11, year=2020)"
   ]
  },
  {
   "cell_type": "code",
   "execution_count": 511,
   "metadata": {},
   "outputs": [],
   "source": [
    "seats = d11.split()"
   ]
  },
  {
   "cell_type": "code",
   "execution_count": 677,
   "metadata": {},
   "outputs": [],
   "source": [
    "def seat_fill(layout, view_check=False, occupied_min=4):\n",
    "    output = layout[:]\n",
    "    directions = [[-1,-1],[-1,0],[-1,1]\n",
    "                 ,[ 0,-1]       ,[ 0,1]\n",
    "                 ,[ 1,-1],[ 1,0],[ 1,1]]\n",
    "\n",
    "    for ir, row in enumerate(layout):\n",
    "\n",
    "        for ic, seat in enumerate(list(row)):\n",
    "\n",
    "            occupied = 0\n",
    "\n",
    "            if seat == '.':\n",
    "                next\n",
    "            \n",
    "            for d in directions:\n",
    "                mult = 1\n",
    "\n",
    "                while (ir + (d[0] * mult)) >= 0 and (ir + (d[0] * mult)) <= (len(layout) - 1) \\\n",
    "                  and (ic + (d[1] * mult)) >= 0 and (ic + (d[1] * mult)) <= (len(row)   - 1):\n",
    "\n",
    "                    adj_seat_val = layout[ir + (d[0] * mult)][ic + (d[1] * mult)]\n",
    "\n",
    "                    if adj_seat_val == '.':\n",
    "                        mult += 1\n",
    "                        if not(view_check):\n",
    "                            mult = 1000\n",
    "                        continue\n",
    "                    elif adj_seat_val == '#':\n",
    "                        occupied +=1\n",
    "                        mult = 1000\n",
    "                        continue\n",
    "                        # break\n",
    "                    else:\n",
    "                        mult = 1000\n",
    "                        continue\n",
    "            \n",
    "            if seat == 'L' and occupied == 0:\n",
    "                outlist = list(output[ir])\n",
    "                outlist[ic] = '#'\n",
    "                output[ir] = ''.join(outlist)\n",
    "            elif seat == '#' and occupied >=occupied_min:\n",
    "                outlist = list(output[ir])\n",
    "                outlist[ic] = 'L'\n",
    "                output[ir] = ''.join(outlist)\n",
    "            \n",
    "    return(output)\n",
    "\n"
   ]
  },
  {
   "cell_type": "code",
   "execution_count": 678,
   "metadata": {},
   "outputs": [
    {
     "output_type": "stream",
     "name": "stdout",
     "text": [
      "2261\n"
     ]
    }
   ],
   "source": [
    "prev = seat_fill(seats)\n",
    "complete = False\n",
    "cnt = 0\n",
    "while not(complete):\n",
    "    cnt += 1\n",
    "    cur = seat_fill(prev)\n",
    "    if cur == prev:\n",
    "        complete = True\n",
    "    else:\n",
    "        prev = cur\n",
    "print(sum([r.count('#') for r in cur]))"
   ]
  },
  {
   "cell_type": "code",
   "execution_count": 679,
   "metadata": {},
   "outputs": [
    {
     "output_type": "stream",
     "name": "stdout",
     "text": [
      "2039\n"
     ]
    }
   ],
   "source": [
    "prev = seat_fill(seats,view_check=True,occupied_min=5)\n",
    "complete = False\n",
    "cnt = 0\n",
    "while not(complete):\n",
    "    cnt += 1\n",
    "    cur = seat_fill(prev,view_check=True,occupied_min=5)\n",
    "    if cur == prev:\n",
    "        complete = True\n",
    "    else:\n",
    "        prev = cur\n",
    "print(sum([r.count('#') for r in cur]))"
   ]
  },
  {
   "source": [
    "## Day 12"
   ],
   "cell_type": "markdown",
   "metadata": {}
  },
  {
   "cell_type": "code",
   "execution_count": 680,
   "metadata": {},
   "outputs": [],
   "source": [
    "d12 = aocd.get_data(day=12,year=2020)"
   ]
  },
  {
   "cell_type": "code",
   "execution_count": 687,
   "metadata": {},
   "outputs": [],
   "source": [
    "t12 = [(x[0],int(x[1:])) for x in d12.split()]"
   ]
  },
  {
   "cell_type": "code",
   "execution_count": 704,
   "metadata": {},
   "outputs": [
    {
     "output_type": "stream",
     "name": "stdout",
     "text": [
      "1221\n"
     ]
    }
   ],
   "source": [
    "x = 0\n",
    "y = 0\n",
    "face = 'E'\n",
    "for t in t12:\n",
    "    direction = t[0]\n",
    "    distance = t[1]\n",
    "    directions = ['N','E','S','W']\n",
    "\n",
    "    if direction == 'N':\n",
    "        y += distance\n",
    "    elif direction == 'S':\n",
    "        y -= distance\n",
    "    elif direction == 'E':\n",
    "        x += distance\n",
    "    elif direction == 'W':\n",
    "        x -= distance\n",
    "    elif direction == 'R':\n",
    "        face = directions[int((directions.index(face) + (distance / 90) ) % 4)]\n",
    "    elif direction == 'L':\n",
    "        face = directions[int((directions.index(face) - (distance / 90) ) % 4)]\n",
    "    elif direction == 'F':\n",
    "        if face == 'N':\n",
    "            y += distance\n",
    "        elif face == 'S':\n",
    "            y -= distance\n",
    "        elif face == 'E':\n",
    "            x += distance\n",
    "        elif face == 'W':\n",
    "            x -= distance\n",
    "print(abs(x) + abs(y))"
   ]
  },
  {
   "cell_type": "code",
   "execution_count": 710,
   "metadata": {
    "tags": []
   },
   "outputs": [
    {
     "output_type": "stream",
     "name": "stdout",
     "text": [
      "59435\n"
     ]
    }
   ],
   "source": [
    "x = 0\n",
    "y = 0\n",
    "w = [10,1]\n",
    "for t in t12:\n",
    "    direction = t[0]\n",
    "    distance = t[1]\n",
    "    directions = [[w[0],w[1]],[w[1],-w[0]],[-w[0],-w[1]],[-w[1],w[0]]]\n",
    "\n",
    "    if direction == 'N':\n",
    "        w[1] += distance\n",
    "    elif direction == 'S':\n",
    "        w[1] -= distance\n",
    "    elif direction == 'E':\n",
    "        w[0] += distance\n",
    "    elif direction == 'W':\n",
    "        w[0] -= distance\n",
    "    elif direction == 'R':\n",
    "        w = directions[int((directions.index(w) + (distance / 90) ) % 4)]\n",
    "    elif direction == 'L':\n",
    "        w = directions[int((directions.index(w) - (distance / 90) ) % 4)]\n",
    "    elif direction == 'F':\n",
    "        x += distance * w[0]\n",
    "        y += distance * w[1]\n",
    "    # print(x,y,t,w)\n",
    "print(abs(x) + abs(y))"
   ]
  },
  {
   "source": [
    "## Day 13"
   ],
   "cell_type": "markdown",
   "metadata": {}
  },
  {
   "cell_type": "code",
   "execution_count": 711,
   "metadata": {},
   "outputs": [],
   "source": [
    "d13 = aocd.get_data(day=13,year=2020)"
   ]
  },
  {
   "cell_type": "code",
   "execution_count": 738,
   "metadata": {},
   "outputs": [
    {
     "output_type": "stream",
     "name": "stdout",
     "text": [
      "296\n"
     ]
    }
   ],
   "source": [
    "bus_times = []\n",
    "wait_times = []\n",
    "start = int(d13.split()[0])\n",
    "for b in d13.split()[1].split(','):\n",
    "    if b != 'x':\n",
    "        bus_times.append(int(b))\n",
    "        wait_times.append(int(b) - start % int(b))\n",
    "\n",
    "print(min(wait_times) * bus_times[wait_times.index(min(wait_times))])\n"
   ]
  },
  {
   "cell_type": "code",
   "execution_count": 839,
   "metadata": {
    "tags": []
   },
   "outputs": [
    {
     "output_type": "stream",
     "name": "stdout",
     "text": [
      "535296695251210\n"
     ]
    }
   ],
   "source": [
    "bt = d13.split()[1].split(',')\n",
    "\n",
    "out = 0\n",
    "inc = int(bt[0])\n",
    "\n",
    "for i,e in enumerate(bt[1:]):\n",
    "    if e == 'x':\n",
    "        continue\n",
    "    else:\n",
    "        mod = int(e)\n",
    "        j = 0\n",
    "        \n",
    "        while (mod - (out + j*inc) % mod) % mod != (i+1) % mod:\n",
    "            j+=1\n",
    "        out += j*inc\n",
    "        inc *= mod\n",
    "print(out)"
   ]
  },
  {
   "source": [
    "## Day 14"
   ],
   "cell_type": "markdown",
   "metadata": {}
  },
  {
   "cell_type": "code",
   "execution_count": 780,
   "metadata": {},
   "outputs": [],
   "source": [
    "d14 = aocd.get_data(day=14, year=2020)"
   ]
  },
  {
   "cell_type": "code",
   "execution_count": 820,
   "metadata": {
    "tags": []
   },
   "outputs": [
    {
     "output_type": "execute_result",
     "data": {
      "text/plain": [
       "13496669152158"
      ]
     },
     "metadata": {},
     "execution_count": 820
    }
   ],
   "source": [
    "program = d14.split('\\n')\n",
    "out = {}\n",
    "\n",
    "for line in program:\n",
    "    if line.split()[0] == 'mask':\n",
    "        mask = list(line.split()[2])\n",
    "    else:\n",
    "        loc = int(line.split('[')[1].split(']')[0])\n",
    "        val = list(bin(int(line.split()[2])))[2:]\n",
    "        out_list = mask[:]\n",
    "        for i,e in enumerate(out_list[::-1]):\n",
    "            if i < len(val) and e =='X':\n",
    "                out_list[-1-i] = val[-1-i]\n",
    "                # print(out_list)\n",
    "            elif e == 'X':\n",
    "                out_list[-1-i] = '0'\n",
    "        out_val = int(''.join(out_list),2)\n",
    "        out[loc] = out_val\n",
    "\n",
    "sum(out.values())"
   ]
  },
  {
   "cell_type": "code",
   "execution_count": 837,
   "metadata": {},
   "outputs": [
    {
     "output_type": "execute_result",
     "data": {
      "text/plain": [
       "3278997609887"
      ]
     },
     "metadata": {},
     "execution_count": 837
    }
   ],
   "source": [
    "# read in data and split by line\n",
    "program = d14.split('\\n')\n",
    "\n",
    "# set up out dict\n",
    "out = {}\n",
    "\n",
    "for line in program:\n",
    "    if line.split()[0] == 'mask':\n",
    "        # parse mask line to list\n",
    "        mask = list(line.split()[2])\n",
    "    \n",
    "    else:\n",
    "        # convert location to binary list and drop '0b' marker\n",
    "        loc = list(bin(int(line.split('[')[1].split(']')[0])))[2:]\n",
    "        # get storage value\n",
    "        val = int(line.split()[2])\n",
    "        \n",
    "        # iterate through all mask combination and store in list with '-1' instead of '0'\n",
    "        #  to allow correct interpretation\n",
    "        masks = []\n",
    "        x_count = mask.count('X')\n",
    "        for x_comb in itertools.product(['-1','1'],repeat=x_count):\n",
    "            mask_new = mask[:]\n",
    "            for rep in x_comb:\n",
    "                mask_new[mask_new.index('X')] = rep\n",
    "            masks.append(mask_new)\n",
    "\n",
    "        # iterate through each mask\n",
    "        for out_list in masks:\n",
    "            # reverse the mask list and iterate through\n",
    "            for i,e in enumerate(out_list[::-1]):\n",
    "                if i < len(loc) and e =='0':\n",
    "                    out_list[-1-i] = loc[-1-i]\n",
    "                elif i < len(loc) and e =='1':\n",
    "                    out_list[-1-i] = '1'\n",
    "                elif e =='-1':\n",
    "                    out_list[-1-i] = '0'\n",
    "\n",
    "            # join back the output list to binary and convert to decimal\n",
    "            out_loc = int(''.join(out_list),2)\n",
    "\n",
    "            # store in out dict\n",
    "            out[out_loc] = val\n",
    "\n",
    "sum(out.values())"
   ]
  },
  {
   "source": [
    "## Day 15"
   ],
   "cell_type": "markdown",
   "metadata": {}
  },
  {
   "cell_type": "code",
   "execution_count": 840,
   "metadata": {},
   "outputs": [],
   "source": [
    "d15 = aocd.get_data(day=15,year=2020)"
   ]
  },
  {
   "cell_type": "code",
   "execution_count": 898,
   "metadata": {
    "tags": []
   },
   "outputs": [
    {
     "output_type": "stream",
     "name": "stdout",
     "text": [
      "1801753\n"
     ]
    }
   ],
   "source": [
    "start_list = {int(e):i for i,e in enumerate(d15.split(','))}\n",
    "last_num = int(d15.split(',')[-1])\n",
    "\n",
    "for i in range(len(start_list),30000000):\n",
    "    old_index = start_list.get(last_num,(i - 1))\n",
    "    cur_num = (i - 1) - old_index\n",
    "    start_list[last_num] = (i-1)\n",
    "    last_num = cur_num\n",
    "print(cur_num)"
   ]
  },
  {
   "source": [
    "## Day 16"
   ],
   "cell_type": "markdown",
   "metadata": {}
  },
  {
   "cell_type": "code",
   "execution_count": 899,
   "metadata": {},
   "outputs": [],
   "source": [
    "d16 = aocd.get_data(day=16,year=2020)"
   ]
  },
  {
   "cell_type": "code",
   "execution_count": 928,
   "metadata": {},
   "outputs": [],
   "source": [
    "rules = d16.split('\\n')[:20]\n",
    "my_ticket = [int(x) for x in d16.split('\\n')[22].split(',')]\n",
    "ticket_values = [int(y) for x in d16.split('\\n')[25:] for y in x.split(',') ]\n",
    "\n",
    "# my_ticket = [int(val) for val in x[1].split('\\n')[1].split(',')]\n",
    "NUM_FIELDS = len(my_ticket)\n",
    "other_tickets = np.array([int(val) for val in re.findall('\\d+', x[2])]).reshape(-1, NUM_FIELDS)\n",
    "valid_ranges = np.array([int(val) for val in re.findall('\\d+', x[0])]).reshape(NUM_FIELDS, 2, 2)\n",
    "check_valid = np.zeros(other_tickets.shape)\n"
   ]
  },
  {
   "cell_type": "code",
   "execution_count": 954,
   "metadata": {},
   "outputs": [],
   "source": [
    "rule_nums = [int(y) for x in rules for y in x.replace(' or ','-').split(': ')[1].split('-')]"
   ]
  },
  {
   "cell_type": "code",
   "execution_count": 960,
   "metadata": {},
   "outputs": [],
   "source": [
    "rule_set = set()\n",
    "for i,e in enumerate(rule_nums[::2]):\n",
    "    for x in range(e,rule_nums[i+1]+1):\n",
    "        rule_set.add(x)"
   ]
  },
  {
   "cell_type": "code",
   "execution_count": 968,
   "metadata": {},
   "outputs": [
    {
     "output_type": "stream",
     "name": "stdout",
     "text": [
      "29878\n"
     ]
    }
   ],
   "source": [
    "out = 0\n",
    "for tv in ticket_values:\n",
    "    if tv not in rule_set:\n",
    "        # print(tv)\n",
    "        out += tv\n",
    "print(out)"
   ]
  },
  {
   "cell_type": "code",
   "execution_count": 978,
   "metadata": {},
   "outputs": [],
   "source": [
    "rule_name = [x.split(':')[0] for x in rules]\n",
    "rule_min1 = [int(x.split(': ')[1].split('-')[0]) for x in rules]\n",
    "rule_max1 = [int(x.split(': ')[1].replace(' or ','-').split('-')[1]) for x in rules]\n",
    "rule_min2 = [int(x.split(': ')[1].replace(' or ','-').split('-')[2]) for x in rules]\n",
    "rule_max2 = [int(x.split(': ')[1].replace(' or ','-').split('-')[3]) for x in rules]\n",
    "\n",
    "rule_df = pd.DataFrame([rule_min1,rule_max1,rule_min2,rule_max2],columns=rule_name)"
   ]
  },
  {
   "cell_type": "code",
   "execution_count": 1002,
   "metadata": {},
   "outputs": [],
   "source": [
    "tickets_df = pd.DataFrame([x.split(',') for x in d16.split('\\n')[25:]])\n",
    "tickets_df = tickets_df.astype('int32')"
   ]
  },
  {
   "cell_type": "code",
   "execution_count": 1016,
   "metadata": {},
   "outputs": [],
   "source": [
    "tickets_df['valid'] = 1\n",
    "for i in range(20):\n",
    "    tickets_df['valid'] = tickets_df['valid'] * tickets_df[i].apply(lambda x: 1 if x in rule_set else 0)"
   ]
  },
  {
   "cell_type": "code",
   "execution_count": 1052,
   "metadata": {},
   "outputs": [],
   "source": [
    "tickets_valid = tickets_df[tickets_df.valid==1]"
   ]
  },
  {
   "cell_type": "code",
   "execution_count": 1056,
   "metadata": {},
   "outputs": [
    {
     "output_type": "stream",
     "name": "stdout",
     "text": [
      "0 [1, 3, 4, 8, 9, 12, 15]\n",
      "1 [0, 1, 3, 4, 5, 8, 9, 12, 14, 15, 17]\n",
      "2 [1, 3, 4, 5, 8, 9, 12, 15]\n",
      "3 [0, 1, 3, 4, 5, 8, 9, 12, 14, 15]\n",
      "4 [1, 3, 4, 5, 8, 9, 12, 14, 15]\n",
      "5 [0, 1, 3, 4, 5, 8, 9, 10, 12, 14, 15, 17]\n",
      "6 [0, 1, 3, 4, 5, 6, 8, 9, 10, 12, 14, 15, 16, 17, 19]\n",
      "7 [1, 9]\n",
      "8 [0, 1, 2, 3, 4, 5, 6, 7, 8, 9, 10, 12, 13, 14, 15, 16, 17, 18, 19]\n",
      "9 [0, 1, 3, 4, 5, 6, 7, 8, 9, 10, 12, 13, 14, 15, 16, 17, 18, 19]\n",
      "10 [1, 3, 4, 8, 9, 12]\n",
      "11 [1, 9, 12]\n",
      "12 [0, 1, 2, 3, 4, 5, 6, 7, 8, 9, 10, 11, 12, 13, 14, 15, 16, 17, 18, 19]\n",
      "13 [0, 1, 3, 4, 5, 6, 7, 8, 9, 10, 12, 14, 15, 16, 17, 19]\n",
      "14 [1]\n",
      "15 [1, 3, 4, 9, 12]\n",
      "16 [1, 3, 9, 12]\n",
      "17 [0, 1, 3, 4, 5, 6, 8, 9, 10, 12, 14, 15, 17, 19]\n",
      "18 [0, 1, 3, 4, 5, 6, 7, 8, 9, 10, 12, 13, 14, 15, 16, 17, 19]\n",
      "19 [0, 1, 3, 4, 5, 6, 8, 9, 10, 12, 14, 15, 17]\n",
      "[(0, [1, 3, 4, 8, 9, 12, 15]), (1, [0, 1, 3, 4, 5, 8, 9, 12, 14, 15, 17]), (2, [1, 3, 4, 5, 8, 9, 12, 15]), (3, [0, 1, 3, 4, 5, 8, 9, 12, 14, 15]), (4, [1, 3, 4, 5, 8, 9, 12, 14, 15]), (5, [0, 1, 3, 4, 5, 8, 9, 10, 12, 14, 15, 17]), (6, [0, 1, 3, 4, 5, 6, 8, 9, 10, 12, 14, 15, 16, 17, 19]), (7, [1, 9]), (8, [0, 1, 2, 3, 4, 5, 6, 7, 8, 9, 10, 12, 13, 14, 15, 16, 17, 18, 19]), (9, [0, 1, 3, 4, 5, 6, 7, 8, 9, 10, 12, 13, 14, 15, 16, 17, 18, 19]), (10, [1, 3, 4, 8, 9, 12]), (11, [1, 9, 12]), (12, [0, 1, 2, 3, 4, 5, 6, 7, 8, 9, 10, 11, 12, 13, 14, 15, 16, 17, 18, 19]), (13, [0, 1, 3, 4, 5, 6, 7, 8, 9, 10, 12, 14, 15, 16, 17, 19]), (14, [1]), (15, [1, 3, 4, 9, 12]), (16, [1, 3, 9, 12]), (17, [0, 1, 3, 4, 5, 6, 8, 9, 10, 12, 14, 15, 17, 19]), (18, [0, 1, 3, 4, 5, 6, 7, 8, 9, 10, 12, 13, 14, 15, 16, 17, 19]), (19, [0, 1, 3, 4, 5, 6, 8, 9, 10, 12, 14, 15, 17])]\n"
     ]
    }
   ],
   "source": [
    "col_names = \n",
    "for r in range(20):\n",
    "    cols = []\n",
    "    for c in range(20):\n",
    "        if (tickets_valid.iloc[:,c].between(rule_df.iloc[0,r], rule_df.iloc[1,r]) \\\n",
    "          | tickets_valid.iloc[:,c].between(rule_df.iloc[2,r], rule_df.iloc[3,r])).all():\n",
    "          cols.append(c)\n",
    "    print(r,cols)\n",
    "    col_names.append((r,cols))\n",
    "print(col_names)"
   ]
  },
  {
   "cell_type": "code",
   "execution_count": 1065,
   "metadata": {},
   "outputs": [
    {
     "output_type": "stream",
     "name": "stdout",
     "text": [
      "855438643439\n"
     ]
    }
   ],
   "source": [
    "s = 1\n",
    "for i in [15,17,5,0,14,10]:\n",
    "    s *= my_ticket[i]\n",
    "print(s)"
   ]
  },
  {
   "cell_type": "code",
   "execution_count": 1064,
   "metadata": {},
   "outputs": [
    {
     "output_type": "execute_result",
     "data": {
      "text/plain": [
       "   departure location  departure station  departure platform  departure track  \\\n",
       "0                  33                 48                  37               41   \n",
       "1                 679                646                 601              863   \n",
       "2                 691                671                 619              875   \n",
       "3                 971                966                 950              973   \n",
       "\n",
       "   departure date  departure time  arrival location  arrival station  \\\n",
       "0              37              26                30               30   \n",
       "1             145             246               542               75   \n",
       "2             168             257               556               89   \n",
       "3             965             972               960              954   \n",
       "\n",
       "   arrival platform  arrival track  class  duration  price  route  row  seat  \\\n",
       "0                48             41     40        33     47     29   45    34   \n",
       "1               274            561    237       317    365    415  762   888   \n",
       "2               299            567    243       336    381    435  784   914   \n",
       "3               958            957    952       972    957    951  972   968   \n",
       "\n",
       "   train  type  wagon  zone  \n",
       "0     50    45     44    28  \n",
       "1    502   802    458   721  \n",
       "2    513   825    475   735  \n",
       "3    960   961    963   972  "
      ],
      "text/html": "<div>\n<style scoped>\n    .dataframe tbody tr th:only-of-type {\n        vertical-align: middle;\n    }\n\n    .dataframe tbody tr th {\n        vertical-align: top;\n    }\n\n    .dataframe thead th {\n        text-align: right;\n    }\n</style>\n<table border=\"1\" class=\"dataframe\">\n  <thead>\n    <tr style=\"text-align: right;\">\n      <th></th>\n      <th>departure location</th>\n      <th>departure station</th>\n      <th>departure platform</th>\n      <th>departure track</th>\n      <th>departure date</th>\n      <th>departure time</th>\n      <th>arrival location</th>\n      <th>arrival station</th>\n      <th>arrival platform</th>\n      <th>arrival track</th>\n      <th>class</th>\n      <th>duration</th>\n      <th>price</th>\n      <th>route</th>\n      <th>row</th>\n      <th>seat</th>\n      <th>train</th>\n      <th>type</th>\n      <th>wagon</th>\n      <th>zone</th>\n    </tr>\n  </thead>\n  <tbody>\n    <tr>\n      <th>0</th>\n      <td>33</td>\n      <td>48</td>\n      <td>37</td>\n      <td>41</td>\n      <td>37</td>\n      <td>26</td>\n      <td>30</td>\n      <td>30</td>\n      <td>48</td>\n      <td>41</td>\n      <td>40</td>\n      <td>33</td>\n      <td>47</td>\n      <td>29</td>\n      <td>45</td>\n      <td>34</td>\n      <td>50</td>\n      <td>45</td>\n      <td>44</td>\n      <td>28</td>\n    </tr>\n    <tr>\n      <th>1</th>\n      <td>679</td>\n      <td>646</td>\n      <td>601</td>\n      <td>863</td>\n      <td>145</td>\n      <td>246</td>\n      <td>542</td>\n      <td>75</td>\n      <td>274</td>\n      <td>561</td>\n      <td>237</td>\n      <td>317</td>\n      <td>365</td>\n      <td>415</td>\n      <td>762</td>\n      <td>888</td>\n      <td>502</td>\n      <td>802</td>\n      <td>458</td>\n      <td>721</td>\n    </tr>\n    <tr>\n      <th>2</th>\n      <td>691</td>\n      <td>671</td>\n      <td>619</td>\n      <td>875</td>\n      <td>168</td>\n      <td>257</td>\n      <td>556</td>\n      <td>89</td>\n      <td>299</td>\n      <td>567</td>\n      <td>243</td>\n      <td>336</td>\n      <td>381</td>\n      <td>435</td>\n      <td>784</td>\n      <td>914</td>\n      <td>513</td>\n      <td>825</td>\n      <td>475</td>\n      <td>735</td>\n    </tr>\n    <tr>\n      <th>3</th>\n      <td>971</td>\n      <td>966</td>\n      <td>950</td>\n      <td>973</td>\n      <td>965</td>\n      <td>972</td>\n      <td>960</td>\n      <td>954</td>\n      <td>958</td>\n      <td>957</td>\n      <td>952</td>\n      <td>972</td>\n      <td>957</td>\n      <td>951</td>\n      <td>972</td>\n      <td>968</td>\n      <td>960</td>\n      <td>961</td>\n      <td>963</td>\n      <td>972</td>\n    </tr>\n  </tbody>\n</table>\n</div>"
     },
     "metadata": {},
     "execution_count": 1064
    }
   ],
   "source": [
    "rule_df"
   ]
  },
  {
   "cell_type": "code",
   "execution_count": 1020,
   "metadata": {},
   "outputs": [
    {
     "output_type": "execute_result",
     "data": {
      "text/plain": [
       "0        948\n",
       "1        947\n",
       "2        944\n",
       "3        949\n",
       "4        949\n",
       "5        948\n",
       "6        949\n",
       "7        941\n",
       "8        949\n",
       "9        946\n",
       "10       949\n",
       "11       948\n",
       "12       949\n",
       "13       949\n",
       "14       946\n",
       "15       938\n",
       "16       946\n",
       "17       948\n",
       "18       949\n",
       "19       943\n",
       "valid      1\n",
       "dtype: int64"
      ]
     },
     "metadata": {},
     "execution_count": 1020
    }
   ],
   "source": [
    "# my_ticket = [int(val) for val in x[1].split('\\n')[1].split(',')]\n",
    "NUM_FIELDS = len(my_ticket)\n",
    "other_tickets = np.array([int(val) for val in re.findall('\\d+', x[2])]).reshape(-1, NUM_FIELDS)\n",
    "valid_ranges = np.array([int(val) for val in re.findall('\\d+', x[0])]).reshape(NUM_FIELDS, 2, 2)\n",
    "check_valid = np.zeros(other_tickets.shape)\n",
    "for i in range(NUM_FIELDS):\n",
    "    for lower, upper in np.array(valid_ranges).reshape(-1, 2):\n",
    "        check_valid[:, i] += (lower <= other_tickets[:, i]) & (other_tickets[:, i] < upper)\n",
    "valid_tickets = other_tickets[np.prod(check_valid, axis=1) != 0]\n",
    "possible_mappings = np.zeros((NUM_FIELDS, NUM_FIELDS))\n",
    "for ticket_column in range(NUM_FIELDS):\n",
    "    for range_column in range(NUM_FIELDS):\n",
    "        check = np.zeros(len(valid_tickets))\n",
    "        for lower, upper in valid_ranges[range_column]:\n",
    "            check += (lower <= valid_tickets[:, ticket_column]) & (valid_tickets[:, ticket_column] <= upper)\n",
    "        if np.sum(check == 0) == 0:\n",
    "            possible_mappings[ticket_column, range_column] += 1\n",
    "final_mapping = {}\n",
    "while np.sum(possible_mappings) > 0:\n",
    "    for ticket_column in range(NUM_FIELDS):\n",
    "        if np.sum(possible_mappings[ticket_column]) == 1:\n",
    "            range_column = np.argmax(possible_mappings[ticket_column])\n",
    "            final_mapping[ticket_column] = range_column\n",
    "            possible_mappings[:, range_column] = 0\n",
    "return np.prod([my_ticket[k] for k, v in final_mapping.items() if v < 6])"
   ]
  },
  {
   "source": [
    "## Day 17"
   ],
   "cell_type": "markdown",
   "metadata": {}
  },
  {
   "cell_type": "code",
   "execution_count": 1066,
   "metadata": {},
   "outputs": [],
   "source": [
    "d17 = aocd.get_data(day=17,year=2020)"
   ]
  },
  {
   "cell_type": "code",
   "execution_count": 1089,
   "metadata": {},
   "outputs": [],
   "source": [
    " base = np.array([list(row) for row in d17.replace('#','1').replace('.','0').split()]).astype(int)"
   ]
  },
  {
   "cell_type": "code",
   "execution_count": 1098,
   "metadata": {},
   "outputs": [],
   "source": [
    "from scipy import ndimage"
   ]
  },
  {
   "cell_type": "code",
   "execution_count": 1203,
   "metadata": {},
   "outputs": [
    {
     "output_type": "stream",
     "name": "stdout",
     "text": [
      "12228\n"
     ]
    }
   ],
   "source": [
    "from scipy import ndimage\n",
    "d17 = aocd.get_data(day=17,year=2020)\n",
    "\n",
    "base = np.array([list(row) for row in d17.replace('#','1').replace('.','0').split()]).astype(int)\n",
    "\n",
    "dimensions = 4\n",
    "cycles = 10\n",
    "\n",
    "full_cube = np.pad(base.reshape((*[1]*(dimensions-len(base.shape))),*base.shape), [[cycles,cycles]] * dimensions, 'constant')\n",
    "\n",
    "neighbors_full = np.ones([3] * dimensions)\n",
    "\n",
    "for _ in range(cycles):\n",
    "    n_sum = ndimage.convolve(full_cube,neighbors_full,mode='constant') - full_cube\n",
    "    full_cube = (((n_sum == 2) & (full_cube == 1)) | (n_sum == 3)).astype(int)\n",
    "print(np.sum(full_cube))\n"
   ]
  },
  {
   "source": [
    "## Day 18"
   ],
   "cell_type": "markdown",
   "metadata": {}
  },
  {
   "cell_type": "code",
   "execution_count": 1204,
   "metadata": {},
   "outputs": [],
   "source": [
    "d18 = aocd.get_data(day=18, year=2020)"
   ]
  },
  {
   "cell_type": "code",
   "execution_count": 1208,
   "metadata": {},
   "outputs": [],
   "source": [
    "equations = d18.split('\\n')"
   ]
  },
  {
   "cell_type": "code",
   "execution_count": 1426,
   "metadata": {},
   "outputs": [
    {
     "output_type": "stream",
     "name": "stdout",
     "text": [
      "5783053349377\n"
     ]
    }
   ],
   "source": [
    "def eval_lr(eq):\n",
    "    p = re.compile(r'\\d+[^\\d]+?\\d+')\n",
    "    while p.search(eq):\n",
    "        sub = p.search(eq)[0]\n",
    "        val = eval(sub)\n",
    "        eq = eq.replace(sub, str(val), 1)\n",
    "    return(eval(eq))\n",
    "\n",
    "\n",
    "def eval_paren(eq):\n",
    "    p = re.compile(r'(\\([^\\(\\)]+\\))')\n",
    "    s = 0\n",
    "    for eq in equations:\n",
    "        while p.search(eq):\n",
    "            sub = p.search(eq)[0]\n",
    "            val = eval_lr(sub[1:-1])\n",
    "            eq = eq.replace(sub,str(val))\n",
    "            # print(eq)\n",
    "        o = eval_lr(eq)\n",
    "        # print(eq,'=',o)\n",
    "        s += o\n",
    "    print(s)\n",
    "\n",
    "    "
   ]
  },
  {
   "cell_type": "code",
   "execution_count": 1380,
   "metadata": {
    "tags": []
   },
   "outputs": [
    {
     "output_type": "stream",
     "name": "stdout",
     "text": [
      "74821486966872\n"
     ]
    }
   ],
   "source": [
    "p = re.compile(r'(\\([^\\(\\)]+\\))')\n",
    "s = 0\n",
    "for eq in equations:\n",
    "    while p.search(eq):\n",
    "        sub = p.search(eq)[0]\n",
    "        val = np.prod([eval(f) for f in sub[1:-1].split(\"*\")])\n",
    "        eq = eq.replace(sub,str(val))\n",
    "    s += np.prod([eval(f) for f in eq.split(\"*\")])\n",
    "print(s)"
   ]
  },
  {
   "cell_type": "code",
   "execution_count": null,
   "metadata": {},
   "outputs": [],
   "source": []
  },
  {
   "source": [
    "## Day 19"
   ],
   "cell_type": "markdown",
   "metadata": {}
  },
  {
   "cell_type": "code",
   "execution_count": 1427,
   "metadata": {},
   "outputs": [],
   "source": [
    "d19 = aocd.get_data(day=19,year=2020)"
   ]
  },
  {
   "cell_type": "code",
   "execution_count": 1629,
   "metadata": {},
   "outputs": [],
   "source": [
    "tree = {x.split(': ')[0] : y.split('|') for x in d19.replace('\"','').split('\\n\\n')[0].split('\\n') for y in x.split(': ')[1:]}\n",
    "for k,v in tree.items():\n",
    "    tree[k] = [x.split() for x in v]"
   ]
  },
  {
   "cell_type": "code",
   "execution_count": 1621,
   "metadata": {},
   "outputs": [],
   "source": [
    "test_vals = d19.split('\\n\\n')[1].split()"
   ]
  },
  {
   "cell_type": "code",
   "execution_count": 1668,
   "metadata": {
    "tags": []
   },
   "outputs": [],
   "source": [
    "def valid_list(base):\n",
    "    new_trunk = []\n",
    "    for i,branch in enumerate(base):\n",
    "        raw = []\n",
    "        for j,lookup_val in enumerate(branch):\n",
    "            raw.append(tree.get(lookup_val,lookup_val))\n",
    "        for e in itertools.product(*raw):\n",
    "            new_trunk.append(list(itertools.chain(*e)))\n",
    "    return(new_trunk)\n",
    "\n",
    "def full_valid(id):\n",
    "    start = tree[id]\n",
    "    test = True\n",
    "    while test == True:\n",
    "        new = valid_list(start)\n",
    "        if start == new:\n",
    "            test = False\n",
    "        else:\n",
    "            start = new\n",
    "\n",
    "    valid_set = [''.join(x) for x in new]\n",
    "    return(valid_set)\n"
   ]
  },
  {
   "cell_type": "code",
   "execution_count": 1682,
   "metadata": {},
   "outputs": [],
   "source": [
    "valid_set_42 = full_valid('42')\n",
    "valid_set_31 = full_valid('31')"
   ]
  },
  {
   "cell_type": "code",
   "execution_count": 1698,
   "metadata": {},
   "outputs": [
    {
     "output_type": "stream",
     "name": "stdout",
     "text": [
      "272 374\n"
     ]
    }
   ],
   "source": [
    "part_a = 0\n",
    "part_b = 0\n",
    "for s in test_vals:\n",
    "    s_rule = ''\n",
    "    for i in range(int(len(s) / 8)):\n",
    "        sub = s[i*8:(i+1)*8] \n",
    "        if sub in valid_set_42:\n",
    "            s_rule += '1'\n",
    "        elif sub in valid_set_31:\n",
    "            s_rule += '0'\n",
    "    ones = s_rule.count('1')\n",
    "    zeros = s_rule.count('0')\n",
    "    \n",
    "    if ones > zeros and s_rule[:ones] == '1'* ones and s_rule[-zeros:] == '0'*zeros:\n",
    "        part_b += 1\n",
    "    if s_rule == '110':\n",
    "        part_a += 1\n",
    "\n",
    "\n",
    "print(part_a,part_b)        "
   ]
  },
  {
   "source": [
    "## Day 20"
   ],
   "cell_type": "markdown",
   "metadata": {}
  },
  {
   "cell_type": "code",
   "execution_count": 1699,
   "metadata": {},
   "outputs": [],
   "source": [
    "d20 = aocd.get_data(day=20,year=2020)"
   ]
  },
  {
   "cell_type": "code",
   "execution_count": 2042,
   "metadata": {},
   "outputs": [
    {
     "output_type": "execute_result",
     "data": {
      "text/plain": [
       "1"
      ]
     },
     "metadata": {},
     "execution_count": 2042
    }
   ],
   "source": [
    "N = 0; E = 1; S = 2; W = 3\n",
    "tmap = dict()       # map from (N,E,S,W) edge numbers to tile IDs\n",
    "tile_imgs = dict()  # map from (N,E,S,W) edge numbers to tiles\n",
    "\n",
    "# Sea monster as array of zeroes and ones\n",
    "sm = \"\"\"00000000000000000010 \n",
    "        10000110000110000111\n",
    "        01001001001001001000\"\"\"\n",
    "sm = np.array([list(l.strip()) for l in sm.split(\"\\n\")]).astype(np.int)\n",
    "\n",
    "# Process input\n",
    "with open(\"../../original_solutions/day_20/input_20.txt\") as input_file:\n",
    "    t_tiles = [tile.split(\"\\n\") for tile in input_file.read().split(\"\\n\\n\")]\n",
    "    tile_len = len(t_tiles[0][1].strip())\n",
    "    for t_tile in t_tiles:\n",
    "        tileID = int(re.match(r\"Tile (\\d+):\", t_tile[0]).group(1))\n",
    "        og_tile = np.array([list(line) for line in t_tile[1:]])\n",
    "        og_tile[og_tile == \"#\"] = 1\n",
    "        og_tile[og_tile == \".\"] = 0\n",
    "        og_tile = og_tile.astype(np.int)\n",
    "\n",
    "        # Perform all transformations on card, adding to dictionaries\n",
    "        for i in range(2 * 2):\n",
    "            tile = og_tile.copy()\n",
    "            # Horizontal flip\n",
    "            if i & 1 == 0:\n",
    "                tile = np.flipud(tile)\n",
    "            # Vertical flip\n",
    "            if i & 2 == 0:\n",
    "                tile = np.fliplr(tile)\n",
    "            # Rotations\n",
    "            for j in range(4):\n",
    "                edges = (\n",
    "                    int(\"\".join(tile[0].astype(str)), 2),\n",
    "                    int(\"\".join(tile[:,-1].astype(str)), 2),\n",
    "                    int(\"\".join(tile[-1].astype(str)), 2),\n",
    "                    int(\"\".join(tile[:,0].astype(str)), 2)\n",
    "                )\n",
    "                tile_imgs[edges] = tile\n",
    "                tmap[edges] = tileID\n",
    "                tile = np.rot90(tile, -1)\n",
    "    \n",
    "# Count number of tile transformations that have each edge\n",
    "occurences = defaultdict(int)\n",
    "for tileT, tileID in tmap.items():\n",
    "    for edge in tileT:\n",
    "        occurences[edge] += 1\n",
    "# find edge numbers that are on the boundary\n",
    "bound_edges = set()\n",
    "for edge, n in occurences.items():\n",
    "    if n == 4: # must be 4 different transformations of the same tile\n",
    "        bound_edges.add(edge)\n",
    "\n",
    "# grid of tile transforms\n",
    "g_len = int(math.sqrt(len(t_tiles)))\n",
    "\n",
    "# find the corners\n",
    "corners = []\n",
    "for tileT, tileID in tmap.items():\n",
    "    edges = [edge for edge in tileT if edge in bound_edges]\n",
    "    if len(edges) == 2:\n",
    "        corners.append((tileT, tileID))\n",
    "        if len(edges) >= 3: print(tileT, tileID)\n",
    "print(\" -> part A:\", math.prod(list(set([i for _, i in corners]))))\n",
    "\n",
    "# Find the top-left corner candidates\n",
    "tl_corners = []\n",
    "for tileT, tileID in corners:\n",
    "    if tileT[N] in bound_edges and tileT[W] in bound_edges:\n",
    "        tl_corners.append((tileT, tileID))\n",
    "\n",
    "# Place the rest of the tiles, starting with top-left corner, for each possible top-left corner\n",
    "# This will generate all possible transformations of the image!\n",
    "for tl_corner in tl_corners:\n",
    "    grid = [[None for _ in range(g_len)] for _ in range(g_len)]\n",
    "    grid[0][0] = tl_corner\n",
    "    tmap_copy = deepcopy(tmap)\n",
    "    # Remove top-left corner from map\n",
    "    for tileT, tileID in list(tmap_copy.items()):\n",
    "        if tileID == tl_corner[1]:\n",
    "            tmap_copy.pop(tileT)\n",
    "    # Place the tiles\n",
    "    for row in range(g_len):\n",
    "        for col in range(g_len):\n",
    "            if grid[row][col] != None:\n",
    "                continue\n",
    "            match = None\n",
    "            for tileT, tileID in tmap_copy.items():\n",
    "                # check if neighbor's edges match this tile's edges\n",
    "                for d, p in enumerate([(row - 1, col), (row, col + 1), (row + 1, col), (row, col - 1)]):\n",
    "                    # check neighbor for matching edge num\n",
    "                    if 0 <= p[0] < g_len and 0 <= p[1] < g_len:\n",
    "                        neighbor = grid[p[0]][p[1]]\n",
    "                        # empty neighbor should not be boundary\n",
    "                        if neighbor == None:\n",
    "                            continue\n",
    "                        # check that opposite edge of neighbor tile matches edge of current tile\n",
    "                        elif neighbor[0][(d + 2) % 4] != tileT[d]:\n",
    "                            break\n",
    "                    # ensure that if tile is on edge, edge sides are in boundary edges set\n",
    "                    elif tileT[d] not in bound_edges:\n",
    "                        break\n",
    "                else:\n",
    "                    match = (tileT, tileID)\n",
    "                    break\n",
    "            # remove all the transforms for the found tile from the map\n",
    "            for tileT, tileID in list(tmap_copy.items()):\n",
    "                if tileID == match[1]:\n",
    "                    tmap_copy.pop(tileT)\n",
    "            # set grid\n",
    "            grid[row][col] = match\n",
    "\n",
    "    # Place the tiles\n",
    "    img_len = g_len * (tile_len - 2)\n",
    "    img = np.ndarray((img_len, img_len), dtype=np.int)\n",
    "    for row in range(g_len):\n",
    "        for col in range(g_len):\n",
    "            # Place the transformed tile into the image without the borders\n",
    "            img[row * (tile_len - 2):(row + 1) * (tile_len - 2),\n",
    "                col * (tile_len - 2):(col + 1) * (tile_len - 2)] =\\\n",
    "                tile_imgs[grid[row][col][0]][1:-1,1:-1]\n",
    "\n",
    "    # find sea monsters\n",
    "    sm_count = 0\n",
    "    for row in range(img_len - sm.shape[0]):\n",
    "        for col in range(img_len - sm.shape[1]):\n",
    "            if np.all(img[row:row+sm.shape[0], col:col+sm.shape[1]] & sm == sm):\n",
    "                sm_count += 1\n",
    "    if sm_count > 0:\n",
    "        print(\" -> part B:\", np.sum(img) - (sm_count * np.sum(sm)))\n",
    "        break"
   ]
  },
  {
   "cell_type": "code",
   "execution_count": 2032,
   "metadata": {},
   "outputs": [
    {
     "output_type": "stream",
     "name": "stdout",
     "text": [
      "Part 1: 51214443014783\n",
      "Part 2: 2065\n"
     ]
    }
   ],
   "source": [
    "# import math\n",
    "\n",
    "P = {int(p[5:9]): p[11:] for p in d20.split('\\n\\n')}\n",
    "edge = lambda p,i: [p[:10], p[9::11], p[-10:], p[0::11]][i]\n",
    "def transform(p):\n",
    "    for _ in range(4):\n",
    "        yield p\n",
    "        yield '\\n'.join(l[::-1] for l in p.split('\\n')) # flip\n",
    "        p = '\\n'.join(''.join(l[::-1]) for l in zip(*p.split('\\n'))) # rotate\n",
    "\n",
    "def get_match(pieces, p, side):\n",
    "    for o in pieces:\n",
    "        if o in transform(p):\n",
    "            continue\n",
    "        for ot in transform(o):\n",
    "            if edge(ot, (side+2)%4) == edge(p, side):\n",
    "                return ot\n",
    "    return 0\n",
    "\n",
    "Z = P.values()\n",
    "corners = [k for k,v in P.items() if sum(not get_match(Z, v, i) for i in range(4)) == 2]\n",
    "print('Part 1:', math.prod(corners))\n",
    "\n",
    "def get_line(pieces, p, orient):\n",
    "    R = [p]\n",
    "    for _ in range(11):\n",
    "        R += [get_match(pieces, R[-1], orient)]\n",
    "    return R\n",
    "\n",
    "corner_tile = next(p for p in transform(P[corners[0]]) if (get_match(Z, p, 2) and get_match(Z, p, 3)))\n",
    "G = [get_line(Z, a, 3) for a in get_line(Z, corner_tile, 2)]\n",
    "\n",
    "image = '\\n'.join(''.join(a[i+1:i+9] for a in B[::-1]) for B in G for i in range(11, 99, 11))\n",
    "\n",
    "# import regex as re # Need `overlapped` option\n",
    "\n",
    "spacing = '[.#\\n]{77}'\n",
    "monster = f'#.{spacing+\"#....#\"*3}##{spacing}.#{\"..#\"*5}'\n",
    "\n",
    "for image_t in transform(image):\n",
    "    m = len(re.findall(monster, image_t, overlapped=True))\n",
    "    if m:\n",
    "        print('Part 2:', sum(c == '#' for c in image_t) - 15*m)\n",
    "        break"
   ]
  },
  {
   "cell_type": "code",
   "execution_count": 2034,
   "metadata": {},
   "outputs": [
    {
     "output_type": "execute_result",
     "data": {
      "text/plain": [
       "['..#....#.#..........##...........####..#.#.##........#..#.#..#.#...#....#...#.....#....#...#..#.',\n",
       " '........#.#.....###...##......#.........###.#.#....#####..#.#......#.#.##...##....#.............',\n",
       " '...#...##.#...#............#.#..#..........###..#.#...#.#...##......#............#.#.#.#....#...',\n",
       " '..#.............##.....#.#........#.#......#.........#..##...#....#..#...#.#.#.#..#....#.......#',\n",
       " '...#......#....#.#.......#..#....#........##..#....#..#..........#...#...#........#.#.#.........',\n",
       " '..#....#.##.......#...#..#.....##.##...###..#.....##.##.#.....#.#.#..#....#.#..#................',\n",
       " '..#.....#...##.............#..#........#.#.#.##.#.##.......#..........#....#.#...##.#.#....##.#.',\n",
       " '..##.##.#...#....##...#......#.....#...#....#...#...............##..#......#....#..#...#..#...#.',\n",
       " '...#.#.###.............#.#.....###....#.........#.#..##..#........#..#......#..#.....#..#....#..',\n",
       " '..####..#.#....#...#....#.###...#.......#.#.....##.#....#..###.#.##...#.#..#...#......#...#.....',\n",
       " '...#.....#.#.####.#.#.#.....#.###.........#........#.......#.#...#..###.....#..##.#..#..#..#....',\n",
       " '.#...#.#.......#......#.#.#.#..#.#....#....###....#.........#...#......##...#.#..#.#....#.....#.',\n",
       " '.##.#...#.....#.....#..###....##.......#.....#...#.......#....#.#......#...#..##.##...........##',\n",
       " '..###...#.#..#...##...#.##...............##.#........##..#....#..#.###..........####.##...##....',\n",
       " '#..##..#...##...#..#..........#..#.......#..#.....##....#.##.#....#.........#..#.#..#...........',\n",
       " '..#............##..#...#.....#.##...#..........##..#...#.#..##....#..#.#.#.#.#.....#........#...',\n",
       " '#............#.#..#...#..#......#....#....##......###....#.#..#..#.#...#.#..#...#####..##..#.#..',\n",
       " '..#.#..###..#.#..#.#.....##.#..#.#.......#.#...##.##......##........#.....#.#....#..#........##.',\n",
       " '#.#..####.#...#....#....###.##..#...#..#.##............#.........###......##...#.##..#..........',\n",
       " '#..#.#.###...#....#..#..#..##.#..##...##...#...........##......###...#.....#...##........##.....',\n",
       " '...###..##..#...#.##........#..#.....####......##.#.....#.#.##.#.##.....##............#..#.#...#',\n",
       " '.###......#.......##..........#...##.#.#....#.#..####..#.....#.##.##.#.#.###......#......#......',\n",
       " '.......####.##...###..#.#..#..#....#...##.###.##.#.####...#..#....#.#.......#...#..#.#.#...#....',\n",
       " '..###.....#...#..#..#.....#.#...#..#..#...##.#..#.####.....#...#..#.........##.#.####...#.#..#..',\n",
       " '...#..........#.....##.###..#.#..#...#...........#.#...#.......#.##....#....#....###.....#.#....',\n",
       " '..#.....#....###..#..#.....#...#.#......###.#.#.##...#..###.#...........###......#.##....##...#.',\n",
       " '...#...#......#.#.##............###...#..####......#..#.#...###.#...###.#....##...#....#........',\n",
       " '...#.#.#......#...###.......#..........#....#.#....#...#....#....##....#..#...##..#..#..##......',\n",
       " '..#.#.....#..#...###..#...##.....#.#...#.#.##.....#...#...#.#..##.#.........#..##..............#',\n",
       " '..##..........#......#......#.....#...####.#.#....#....#.#..#....#..#.#...#.....#........#...#..',\n",
       " '#..####.#.....##.....##.#...#.....###.#..#.#.....#....##....#...#...#..###.............#.#......',\n",
       " '..#.#.##..#...#..#....##...#..#...#.................##..#.##.###.....#..#.#.....#............##.',\n",
       " '......#....#..#..#......##.##.#...#..##..#.#...#.......###...#.#.#......##...#...#..#.#..##.....',\n",
       " '............#.#.#..............#....####....#..##...#...#...##..####...#............#....###....',\n",
       " '..#..#....#.#.#...####.#...##.##....#..####.##..#.#...##...###..#.#..#......#....##.......#..#..',\n",
       " '..##...#...##..##..###..#..##.....##.##....#...........#.#.......#.....#.....#.........##.......',\n",
       " '#..###.#............#.#.##.###.....#................#...#...#....#.#.#.#....#.###.......##.###..',\n",
       " '..#..#....#......#.#..##....#....#.....#...#.###.#.#..##.....#.#.......##..##..#####....####....',\n",
       " '..#.#.#.........#.#..#........#..#.####.#..##.....##...#.##..##..#..##..##..#....#..#.....##....',\n",
       " '......#..#.....###..###.........#......#....#...#...##......#...#.#.#...##...#...#.......#....#.',\n",
       " '#.#........#.#..#......#.#...#...#..#..##...###..#.#.#####........#....#.......##.............#.',\n",
       " '#..##......#.....##.....##...#...#...###..#.#.....#........#....##.#.#..#.##...##........##.###.',\n",
       " '..###.#.###..###..##....#.....#..#........##.#.....#........#..##.....#.#.#.#..##.#.##...#......',\n",
       " '...#...#...#....#......##.#..#.##.....#....#..##...#.........##..........#..#..#.##.....#.#.....',\n",
       " '..#.............#.#....####.#.#........#...#...##.#.......#.###..##.......#....##.........#.#...',\n",
       " '#....#..##.#.###.....#...#...###.#.#.....#...#....#...#......#....#...#......#..#........#......',\n",
       " '#.............#..#.######..#.......#.#.........#...#..##....##....##....##....##.##...#..#..##.#',\n",
       " '.#.........##.....#.....##.#..###..#....#........##.##..#.##......#...##.#...#.###..............',\n",
       " '........#....####...#..###.#...#....#..#..##..#....#.#...#...........##.#....#..#.###.#..#......',\n",
       " '...#....####.#.##.....#.#....###...........#..##...#..##..#...##....##..##..#..#......#.####..##',\n",
       " '#....##...#.....#......#......#.##.........#....#.#..##.#....#.#...............#....#.....###.##',\n",
       " '..#......#.#...#....##..#......##...#.#..#.......#......#...................#......##....###.##.',\n",
       " '....##..##..#........................#.....##.#.#.#..##...#.#..##..............##.....#.#...#.#.',\n",
       " '.#.#........#....#...#...#....##........#....#...##..#..##.....##..#............#.###.....#.....',\n",
       " '.....#.#.#.....#......#....#..##..#.#.#.#..........##............##.......#....####.#..#....#...',\n",
       " '......#...#.....#.##...#...#.####....#.###.###...#.##.#.#..#......#...#...###.#.#..#####.....#.#',\n",
       " '#..#......#.....##........##..#...###..........#..##.....#..#.#..##...#...#.#.....#.#....#....#.',\n",
       " '..#.#....##.##..#.......##.#.............##.................#..........#.#.#.........#....#..##.',\n",
       " '#..##...............##...#....#...##.#.............#..#..#.#...##...##.##.#.....#.......#.......',\n",
       " '...#......#.....##.#.....#.#.###..#...#....#..#..#.....#...#...#...##.##.#....#..##..##......#..',\n",
       " '..#..##.#..#..#.#..#...#.#.##..#..#...#.....#......#####...#.###....#..##......#....##.#........',\n",
       " '#.##.#.....#...#......#....#...##.#..##..........#..##.#......#....##....#...###......#.#.#.....',\n",
       " '..##..............#....#.#.#.###.#...#.#......#.....#..#.#..#......#...#.##.....#.......##......',\n",
       " '...##..#...#.......##...............##...#.#....#.........#.##......#........##.#.#..#.#..#.#..#',\n",
       " '.##.##........##....#.##...#.#...##.##..##..##..#....#...#.##.....#.......###..................#',\n",
       " '.#.#..#....#....#......###..##........#...........#...##.#...#..##.....#....##.##...#....#.#....',\n",
       " '..#.....#.#.#.###.#....#..##.#....#..###......#......##.....##....#..#....##....#..#..#.#.#.....',\n",
       " '..#...#...........#...#...#....##.#..#.....#..##.#...#.##.#.#..#..#..............##..#....#.#...',\n",
       " '##.#..##....#....#.........##..#........#.###.....#.....#...#....#......#....#.##....#.#.#.#..#.',\n",
       " '#...#.............#.#..#.....#....#..#..#...#........#......##....#.#.....#..##....#..#.#.....#.',\n",
       " '...###......###....#.####............#..#..##...#..###.#....##..###..#.#.#.#.#.#.#.###.#....#...',\n",
       " '..#.##..........#......##.....#.......#.#.......#....##....#.....#...##.......#...#.#...##.#..#.',\n",
       " '..#.#...#...#.#........#.#.#.#.##.....######.###...#..#.#..##...#.#..........###...#......#.#...',\n",
       " '.......#......#.#.#...##...#.#.#.##..##....#..#......#.....##.#.##.............#...#..#...##.#..',\n",
       " '#...##.......##..............#...#...##.#...#.....##..##..#.##.#.#...##...##.#.#......#..#.....#',\n",
       " '..#....#....##....#.#.##.#.###...##..#..#......#.......#.....#....##...##....##.#..#............',\n",
       " '.#.#........#.....#...#..#..#.#..###........#...#....#...#..##....#..###.......#....##......#...',\n",
       " '##.###.#...##...#..#...##.....#.#...##.......#..#.#..##...#....#.#....#....#....#..##..#.##.#...',\n",
       " '..#...#..#..#.###...#..###...#..#....#..#.#...##..#...##.#..........#.##......#...##.##.#.#.....',\n",
       " '...#...##....#..#..#...#.......#.#..#...#..........#..#....###....#...#..#.#.#####.#.###..##....',\n",
       " '#.....#.#...##....#..#....#.#.#.....#.##.#.........#.#....#..#...#..#.#.....#..#.....#....##..#.',\n",
       " '.#..........#.....#...#..##..#....#..#...#.#.#.#........##...#.#..#...##......#.#..#...#........',\n",
       " '#....#..#.........#......#..#.##.#..#........#..#...........#.....##.###.....#.##...#....###....',\n",
       " '...#.#.#.....#..........##...##...............#.#...#....#........##.##......#......###.#.##.#..',\n",
       " '........######...###..###....#....#....#.......##...#.#....##..#.......#......#.....#....#..#...',\n",
       " '.....#.#....##..#.........#.#..........#...##........#......#..................#...##....##..#..',\n",
       " '#.#.......#..#..#...####.#...........##....##..#.....#....#..#..#.##..#.#.....######.......#...#',\n",
       " '..#.#......##........#.#....##.....#.....#...#.#..##.#.#....###..#...#.##.#.##.#..#..#......#...',\n",
       " '.#......#....#..#...#.#....#..#..#..#...#.#.#.###............#....#.#..##..##......##...........',\n",
       " '##....##.....#...#.........#..##.....#......###.##..##........#....#...#.#..#...#......#.......#',\n",
       " '#.#.........##.......##..##...#...##......#..#..#.#...#.#....#.....#...###.###...#.....#......#.',\n",
       " '#.#..#...###.#.##...#.....##....#.#..#.#...#..........#.................#.##......#......#......',\n",
       " '....#........##....#.#.###.....#..........#.....#................#.#.....#.#..#....#....#....#.#',\n",
       " '.##......#...#.#..#..#...#..#....#..##.##....##....##..........#.##.......#...........#.....#...',\n",
       " '.#...#.##..##...#........#.#..........#...#..####.#.#...#.....#...#..........#....###....#......',\n",
       " '#.#......#..........#...........#.##............#...###....#.........##....##..#..#..#....#.##..']"
      ]
     },
     "metadata": {},
     "execution_count": 2034
    }
   ],
   "source": [
    "image.split()"
   ]
  },
  {
   "cell_type": "code",
   "execution_count": 2009,
   "metadata": {},
   "outputs": [],
   "source": [
    "d20s = d20.replace('.','0').replace('#','1').split()\n",
    "tiles = {}\n",
    "edges = collections.defaultdict(set)\n",
    "# edge_side = ['tn','ti','rn','ri','bn','bi','ln','li']\n",
    "for i in range(144):\n",
    "    top = i*12+2\n",
    "    bottom = i*12+12\n",
    "    tile_num = int(d20s[i*12+1].split(':')[0])\n",
    "    tile = np.array([list(x) for x in d20s[top:bottom]]).astype(int)\n",
    "    # print(d20s[bottom],bottom)\n",
    "    edge_list = [int(d20s[top],2)\n",
    "                ,int(d20s[top][::-1],2)\n",
    "                ,int(''.join([x[9] for x in d20s[top:bottom]]),2)\n",
    "                ,int(''.join([x[9] for x in d20s[top:bottom][::-1]]),2)\n",
    "                ,int(d20s[bottom-1],2)\n",
    "                ,int(d20s[bottom-1][::-1],2)\n",
    "                ,int(''.join([x[0] for x in d20s[top:bottom]]),2)\n",
    "                ,int(''.join([x[0] for x in d20s[top:bottom][::-1]]),2)]\n",
    "    \n",
    "    for j,e in enumerate(edge_list):\n",
    "        edges[e].add(tile_num)\n",
    "\n",
    "    tiles[tile_num] = tile"
   ]
  },
  {
   "cell_type": "code",
   "execution_count": 2014,
   "metadata": {},
   "outputs": [],
   "source": [
    "# edges_unique = collections.defaultdict()\n",
    "pairs = set(tuple(v) for v in edges.values() if len(v) == 2)"
   ]
  },
  {
   "cell_type": "code",
   "execution_count": 2019,
   "metadata": {},
   "outputs": [],
   "source": [
    "match_tiles = [v for v in pairs if 1759 in v]"
   ]
  },
  {
   "cell_type": "code",
   "execution_count": 2026,
   "metadata": {},
   "outputs": [
    {
     "output_type": "stream",
     "name": "stdout",
     "text": [
      "{2287}\n"
     ]
    }
   ],
   "source": [
    "a = set(match_tiles[0])\n",
    "a.discard(1759)\n",
    "print(a)"
   ]
  },
  {
   "cell_type": "code",
   "execution_count": null,
   "metadata": {},
   "outputs": [],
   "source": []
  },
  {
   "cell_type": "code",
   "execution_count": null,
   "metadata": {},
   "outputs": [],
   "source": [
    "tile \n",
    "unmatched edge\n",
    "    find match tile with unmatched edges and save for next st\n",
    "\n",
    "cur_tile = np.flipud(tiles[1759])\n",
    "full_grid = np.zeros([120,120])\n",
    "for i in range(6):\n",
    "    for j in range(6):\n",
    "        full_grid\n"
   ]
  },
  {
   "cell_type": "code",
   "execution_count": 2008,
   "metadata": {},
   "outputs": [
    {
     "output_type": "stream",
     "name": "stdout",
     "text": [
      "[[0 0 1 1 1 0 0 0 1 1]\n [1 0 0 1 1 0 1 0 0 1]\n [1 0 0 0 0 0 0 1 0 0]\n [0 0 0 0 1 0 0 0 0 0]\n [0 1 0 1 0 0 0 0 1 1]\n [0 0 0 0 0 0 0 1 0 0]\n [1 0 1 0 0 0 0 0 0 1]\n [1 1 0 0 0 0 0 0 0 0]\n [1 0 0 0 0 0 0 0 0 1]\n [1 0 1 0 1 0 0 1 0 0]]\n[[1 0 1 0 1 0 0 1 0 0]\n [1 0 0 0 0 0 0 0 0 1]\n [1 1 0 0 0 0 0 0 0 0]\n [1 0 1 0 0 0 0 0 0 1]\n [0 0 0 0 0 0 0 1 0 0]\n [0 1 0 1 0 0 0 0 1 1]\n [0 0 0 0 1 0 0 0 0 0]\n [1 0 0 0 0 0 0 1 0 0]\n [1 0 0 1 1 0 1 0 0 1]\n [0 0 1 1 1 0 0 0 1 1]]\n"
     ]
    }
   ],
   "source": [
    "print(np.flipud(tiles[1759]))\n",
    "print(tiles[1759])"
   ]
  },
  {
   "cell_type": "code",
   "execution_count": 2004,
   "metadata": {},
   "outputs": [
    {
     "output_type": "stream",
     "name": "stdout",
     "text": [
      "[[1 1 1 1 0 1 0 0 1 0]\n [1 0 0 1 0 0 1 0 0 0]\n [0 0 0 0 1 1 1 0 0 1]\n [0 0 1 0 0 0 0 0 0 0]\n [1 0 0 0 0 1 0 0 0 1]\n [0 0 0 0 0 0 1 0 0 0]\n [1 1 0 0 0 0 0 1 0 0]\n [0 1 0 0 0 0 0 0 1 0]\n [1 0 0 0 1 1 0 0 0 0]\n [0 1 0 1 1 1 1 0 0 0]]\n[[0 1 0 1 1 1 1 0 0 0]\n [0 0 0 1 0 0 1 0 0 1]\n [1 0 0 0 0 1 1 1 1 1]\n [1 0 0 0 1 1 0 0 0 1]\n [1 0 0 0 1 0 0 0 0 0]\n [0 0 1 1 1 0 0 0 0 0]\n [1 0 0 0 1 0 0 0 1 0]\n [0 1 0 0 0 1 0 0 1 1]\n [1 0 0 1 0 0 0 0 0 1]\n [1 0 1 0 0 0 0 1 0 0]]\n[[0 0 1 1 1 0 0 0 1 1]\n [1 0 0 1 1 0 1 0 0 1]\n [1 0 0 0 0 0 0 1 0 0]\n [0 0 0 0 1 0 0 0 0 0]\n [0 1 0 1 0 0 0 0 1 1]\n [0 0 0 0 0 0 0 1 0 0]\n [1 0 1 0 0 0 0 0 0 1]\n [1 1 0 0 0 0 0 0 0 0]\n [1 0 0 0 0 0 0 0 0 1]\n [1 0 1 0 1 0 0 1 0 0]]\n[[1 0 1 0 1 0 0 1 0 0]\n [0 0 0 0 1 0 0 0 0 0]\n [0 1 0 0 0 1 0 0 0 1]\n [1 0 0 1 0 0 1 1 0 1]\n [0 0 0 0 1 0 0 1 0 1]\n [1 0 0 1 0 1 1 0 1 0]\n [0 0 0 0 0 1 1 1 0 1]\n [1 0 0 0 0 0 0 0 0 0]\n [0 0 1 0 0 1 1 0 0 1]\n [1 1 1 0 0 0 1 1 1 1]]\n"
     ]
    }
   ],
   "source": [
    "print(tiles[2287])\n",
    "print(np.rot90(tiles[2003],-1))\n",
    "print(np.rot90(tiles[1759].transpose(),1))\n",
    "print(np.rot90(tiles[1069],2))\n",
    "# ,tiles[2287])\n",
    "# print(tiles[1759].transpose())\n",
    "# print(np.rot90(tiles[1759],-1))\n",
    "# ?np.rot90\n"
   ]
  },
  {
   "cell_type": "code",
   "execution_count": 1971,
   "metadata": {
    "tags": []
   },
   "outputs": [
    {
     "output_type": "stream",
     "name": "stdout",
     "text": [
      "[(1759, 4), (2719, 4), (2801, 4), (3823, 4), (1031, 6), (1063, 6), (1069, 6), (1087, 6), (1249, 6), (1303, 6), (1307, 6), (1319, 6), (1471, 6), (1609, 6), (1699, 6), (1721, 6), (1723, 6), (1867, 6), (1871, 6), (1889, 6), (1949, 6), (2011, 6), (2203, 6), (2273, 6), (2287, 6), (2381, 6), (2411, 6), (2609, 6), (2663, 6), (2713, 6), (2917, 6), (2939, 6), (3037, 6), (3169, 6), (3259, 6), (3271, 6), (3529, 6), (3593, 6), (3607, 6), (3637, 6), (3697, 6), (3727, 6), (3769, 6), (3881, 6), (1019, 8), (1051, 8), (1061, 8), (1093, 8), (1109, 8), (1153, 8), (1163, 8), (1187, 8), (1279, 8), (1283, 8), (1301, 8), (1367, 8), (1409, 8), (1423, 8), (1427, 8), (1447, 8), (1459, 8), (1481, 8), (1523, 8), (1531, 8), (1549, 8), (1553, 8), (1559, 8), (1583, 8), (1607, 8), (1657, 8), (1667, 8), (1697, 8), (1747, 8), (1783, 8), (1787, 8), (1801, 8), (1811, 8), (1823, 8), (1831, 8), (1847, 8), (1861, 8), (1901, 8), (1907, 8), (1913, 8), (1933, 8), (1973, 8), (1979, 8), (2003, 8), (2063, 8), (2081, 8), (2089, 8), (2129, 8), (2237, 8), (2269, 8), (2281, 8), (2347, 8), (2399, 8), (2437, 8), (2459, 8), (2473, 8), (2539, 8), (2549, 8), (2591, 8), (2671, 8), (2699, 8), (2711, 8), (2729, 8), (2749, 8), (2777, 8), (2789, 8), (2791, 8), (2797, 8), (2803, 8), (2819, 8), (2879, 8), (2887, 8), (2909, 8), (3041, 8), (3049, 8), (3079, 8), (3119, 8), (3191, 8), (3203, 8), (3251, 8), (3307, 8), (3347, 8), (3371, 8), (3373, 8), (3449, 8), (3461, 8), (3467, 8), (3499, 8), (3533, 8), (3557, 8), (3659, 8), (3709, 8), (3793, 8), (3797, 8), (3821, 8), (3833, 8), (3889, 8), (3917, 8), (3919, 8), (3947, 8)]\n"
     ]
    }
   ],
   "source": [
    "matched_edges = collections.defaultdict(int)\n",
    "for k,v in edges.items():\n",
    "    if len(v) >= 2:\n",
    "        for i in v:\n",
    "            matched_edges[i[0]] += 1\n",
    "\n",
    "# sorted(matched_edges)\n",
    "print(sorted(matched_edges.items(), key = \n",
    "             lambda kv:(kv[1], kv[0])))     \n",
    "\n"
   ]
  },
  {
   "cell_type": "code",
   "execution_count": 1978,
   "metadata": {},
   "outputs": [
    {
     "output_type": "execute_result",
     "data": {
      "text/plain": [
       "array([[0., 0., 0., 0., 0., 0., 0., 0., 0., 0.],\n",
       "       [0., 0., 0., 0., 0., 0., 0., 0., 0., 0.],\n",
       "       [0., 0., 0., 0., 0., 0., 0., 0., 0., 0.],\n",
       "       [0., 0., 0., 0., 0., 0., 0., 0., 0., 0.],\n",
       "       [0., 0., 0., 0., 0., 0., 0., 0., 0., 0.],\n",
       "       [0., 0., 0., 0., 0., 0., 0., 0., 0., 0.],\n",
       "       [0., 0., 0., 0., 0., 0., 0., 0., 0., 0.],\n",
       "       [0., 0., 0., 0., 0., 0., 0., 0., 0., 0.],\n",
       "       [0., 0., 0., 0., 0., 0., 0., 0., 0., 0.],\n",
       "       [0., 0., 0., 0., 0., 0., 0., 0., 0., 0.]])"
      ]
     },
     "metadata": {},
     "execution_count": 1978
    }
   ],
   "source": [
    "# grid = np.zeros([120,120])\n",
    "grid[:10,:10]"
   ]
  },
  {
   "cell_type": "code",
   "execution_count": 1979,
   "metadata": {},
   "outputs": [
    {
     "output_type": "execute_result",
     "data": {
      "text/plain": [
       "array([[1, 0, 1, 0, 1, 0, 0, 1, 0, 0],\n",
       "       [1, 0, 0, 0, 0, 0, 0, 0, 0, 1],\n",
       "       [1, 1, 0, 0, 0, 0, 0, 0, 0, 0],\n",
       "       [1, 0, 1, 0, 0, 0, 0, 0, 0, 1],\n",
       "       [0, 0, 0, 0, 0, 0, 0, 1, 0, 0],\n",
       "       [0, 1, 0, 1, 0, 0, 0, 0, 1, 1],\n",
       "       [0, 0, 0, 0, 1, 0, 0, 0, 0, 0],\n",
       "       [1, 0, 0, 0, 0, 0, 0, 1, 0, 0],\n",
       "       [1, 0, 0, 1, 1, 0, 1, 0, 0, 1],\n",
       "       [0, 0, 1, 1, 1, 0, 0, 0, 1, 1]])"
      ]
     },
     "metadata": {},
     "execution_count": 1979
    }
   ],
   "source": [
    "tiles[1759]"
   ]
  },
  {
   "cell_type": "code",
   "execution_count": 1852,
   "metadata": {},
   "outputs": [
    {
     "output_type": "execute_result",
     "data": {
      "text/plain": [
       "51214443014783"
      ]
     },
     "metadata": {},
     "execution_count": 1852
    }
   ],
   "source": [
    "1759 * 2719 * 2801 * 3823"
   ]
  },
  {
   "source": [
    "## Day 21"
   ],
   "cell_type": "markdown",
   "metadata": {}
  },
  {
   "cell_type": "code",
   "execution_count": 1722,
   "metadata": {},
   "outputs": [],
   "source": [
    "d21 = aocd.get_data(day=21, year=2020)"
   ]
  },
  {
   "cell_type": "code",
   "execution_count": 1758,
   "metadata": {},
   "outputs": [],
   "source": [
    "ingredients = []\n",
    "alergens = []\n",
    "for food in d21.split('\\n'):\n",
    "    ingredients.append(food.split('(')[0].split())\n",
    "    alergens.append(food.split('contains ')[1][:-1].split(', '))\n",
    "\n"
   ]
  },
  {
   "cell_type": "code",
   "execution_count": 1759,
   "metadata": {},
   "outputs": [],
   "source": [
    "# ingredients\n",
    "alergen_dict = {}\n",
    "for i,e in enumerate(alergens):\n",
    "    for a in e:\n",
    "        ingredient_set = alergen_dict.get(a)\n",
    "        if ingredient_set:\n",
    "            alergen_dict[a] = set(ingredients[i]).intersection(ingredient_set)\n",
    "        else:\n",
    "            alergen_dict[a] = set(ingredients[i])\n"
   ]
  },
  {
   "cell_type": "code",
   "execution_count": 1760,
   "metadata": {},
   "outputs": [
    {
     "output_type": "execute_result",
     "data": {
      "text/plain": [
       "{'fish': {'dgsdtj', 'sjcvsr'},\n",
       " 'peanuts': {'sjcvsr'},\n",
       " 'soy': {'hn', 'vkdxfj'},\n",
       " 'eggs': {'bstzgn', 'hn', 'kpksf'},\n",
       " 'nuts': {'bstzgn', 'dgsdtj', 'kpksf', 'sjcvsr'},\n",
       " 'sesame': {'bstzgn', 'dgsdtj', 'kmmqmv', 'sjcvsr'},\n",
       " 'shellfish': {'kmmqmv', 'sjcvsr'},\n",
       " 'wheat': {'bsfqgb', 'hn'}}"
      ]
     },
     "metadata": {},
     "execution_count": 1760
    }
   ],
   "source": [
    "alergen_dict"
   ]
  },
  {
   "cell_type": "code",
   "execution_count": 1752,
   "metadata": {},
   "outputs": [],
   "source": [
    "possible_alergens = alergen_dict[' fish']\n",
    "for v in alergen_dict.values():\n",
    "    # print(v)\n",
    "    possible_alergens =possible_alergens.union(v)"
   ]
  },
  {
   "cell_type": "code",
   "execution_count": 1770,
   "metadata": {},
   "outputs": [
    {
     "output_type": "execute_result",
     "data": {
      "text/plain": [
       "[{'bstzgn', 'hn', 'kpksf'},\n",
       " {'dgsdtj', 'sjcvsr'},\n",
       " {'bstzgn', 'dgsdtj', 'kpksf', 'sjcvsr'},\n",
       " {'sjcvsr'},\n",
       " {'bstzgn', 'dgsdtj', 'kmmqmv', 'sjcvsr'},\n",
       " {'kmmqmv', 'sjcvsr'},\n",
       " {'hn', 'vkdxfj'},\n",
       " {'bsfqgb', 'hn'}]"
      ]
     },
     "metadata": {},
     "execution_count": 1770
    }
   ],
   "source": [
    "[alergen_dict[v] for v in sorted(alergen_dict)]"
   ]
  },
  {
   "cell_type": "code",
   "execution_count": 1757,
   "metadata": {},
   "outputs": [
    {
     "output_type": "stream",
     "name": "stdout",
     "text": [
      "2627\n"
     ]
    }
   ],
   "source": [
    "cnt = 0\n",
    "for f in ingredients:\n",
    "    for i in f:\n",
    "        if i not in possible_alergens:\n",
    "            cnt += 1\n",
    "print(cnt)"
   ]
  },
  {
   "cell_type": "code",
   "execution_count": null,
   "metadata": {},
   "outputs": [],
   "source": [
    " ' eggs': hn,\n",
    " ' fish': dgsdtj,\n",
    " ' nuts': kpksf,\n",
    " ' peanuts': sjcvsr,\n",
    " ' sesame': bstzgn,\n",
    " ' shellfish': kmmqmv,\n",
    " ' soy': vkdxfj,\n",
    " ' wheat': bsfqgb\n",
    "\n",
    "  hn,dgsdtj,kpksf,sjcvsr,bstzgn,kmmqmv,vkdxfj,bsfqgb"
   ]
  },
  {
   "source": [
    "## Day 22"
   ],
   "cell_type": "markdown",
   "metadata": {}
  },
  {
   "cell_type": "code",
   "execution_count": 1869,
   "metadata": {},
   "outputs": [],
   "source": [
    "d22 = aocd.get_data(day=22, year=2020)"
   ]
  },
  {
   "cell_type": "code",
   "execution_count": 1925,
   "metadata": {},
   "outputs": [],
   "source": [
    "p1 = collections.deque([int(x) for x in d22.split()[2:27]])\n",
    "p2 = collections.deque([int(x) for x in d22.split()[29:]])\n",
    "# len(d22.split())"
   ]
  },
  {
   "cell_type": "code",
   "execution_count": 1881,
   "metadata": {},
   "outputs": [],
   "source": [
    "while len(p1) > 0 and len(p2) > 0:\n",
    "    c1 = p1.popleft()\n",
    "    c2 = p2.popleft()\n",
    "    if c1 > c2:\n",
    "        p1.append(c1)\n",
    "        p1.append(c2)\n",
    "    elif c2 > c1:\n",
    "        p2.append(c2)\n",
    "        p2.append(c1)\n",
    "\n",
    "s = 0\n",
    "for i,e in enumerate(p1):\n",
    "    s += (50-i) * e\n",
    "print(s)"
   ]
  },
  {
   "cell_type": "code",
   "execution_count": 1884,
   "metadata": {},
   "outputs": [
    {
     "output_type": "stream",
     "name": "stdout",
     "text": [
      "31754\n"
     ]
    }
   ],
   "source": [
    "s = 0\n",
    "for i,e in enumerate(p1):\n",
    "    s += (50-i) * e\n",
    "print(s)"
   ]
  },
  {
   "cell_type": "code",
   "execution_count": 1968,
   "metadata": {},
   "outputs": [],
   "source": [
    "def game(d1,d2):\n",
    "    p1g = d1.copy()\n",
    "    p2g = d2.copy()\n",
    "    r = 0\n",
    "    configs = []\n",
    "    while len(p1g) > 0 and len(p2g) > 0:\n",
    "        if [p1g,p2g] in configs:\n",
    "            return([p1g,1])\n",
    "\n",
    "        configs.append([p1g.copy(),p2g.copy()])\n",
    "\n",
    "        c1 = p1g.popleft()\n",
    "        c2 = p2g.popleft()\n",
    "        if c1 <= len(p1g) and c2 <= len(p2g):\n",
    "            # print('subgame')\n",
    "            p1s = collections.deque(list(p1g)[:c1])\n",
    "            p2s = collections.deque(list(p2g)[:c2])\n",
    "            outcome = game(p1s,p2s)[1]\n",
    "            # print('end with:',outcome)\n",
    "            if outcome == 1:\n",
    "                p1g.append(c1)\n",
    "                p1g.append(c2)\n",
    "            else:\n",
    "                p2g.append(c2)\n",
    "                p2g.append(c1)\n",
    "        elif c1 > c2:\n",
    "            p1g.append(c1)\n",
    "            p1g.append(c2)\n",
    "        elif c2 > c1:\n",
    "            p2g.append(c2)\n",
    "            p2g.append(c1)\n",
    "        r+=1\n",
    "        # print('round:',r, 'p1:', p1g)\n",
    "    if len(p1g) == 0:\n",
    "        return([p2g,2])\n",
    "    else:\n",
    "        return([p1g,1])\n"
   ]
  },
  {
   "cell_type": "code",
   "execution_count": 1969,
   "metadata": {
    "tags": []
   },
   "outputs": [],
   "source": [
    "winner = game(p1,p2)[0]"
   ]
  },
  {
   "cell_type": "code",
   "execution_count": 1970,
   "metadata": {},
   "outputs": [
    {
     "output_type": "stream",
     "name": "stdout",
     "text": [
      "35436\n"
     ]
    }
   ],
   "source": [
    "s = 0\n",
    "for i,e in enumerate(winner):\n",
    "    s += (50-i) * e\n",
    "print(s)"
   ]
  },
  {
   "source": [
    "## Day 23"
   ],
   "cell_type": "markdown",
   "metadata": {}
  },
  {
   "cell_type": "code",
   "execution_count": 2,
   "metadata": {},
   "outputs": [],
   "source": [
    "d23 = aocd.get_data(day=23, year=2020)"
   ]
  },
  {
   "cell_type": "code",
   "execution_count": 3,
   "metadata": {},
   "outputs": [
    {
     "output_type": "execute_result",
     "data": {
      "text/plain": [
       "'589174263'"
      ]
     },
     "metadata": {},
     "execution_count": 3
    }
   ],
   "source": [
    "d23"
   ]
  },
  {
   "cell_type": "code",
   "execution_count": 82,
   "metadata": {},
   "outputs": [],
   "source": [
    "import time"
   ]
  },
  {
   "cell_type": "code",
   "execution_count": 180,
   "metadata": {},
   "outputs": [],
   "source": [
    "def game23(start_dict,val,mod=9):\n",
    "\n",
    "    cur_ptr = start_dict.get(val)\n",
    "    sub_dict = {}\n",
    "    next_ptr = cur_ptr\n",
    "    for i in range (3):\n",
    "        # print(i,next_ptr)\n",
    "        sub_dict[next_ptr] = start_dict.pop(next_ptr)\n",
    "        last_val = next_ptr\n",
    "        next_ptr = sub_dict.get(next_ptr)\n",
    "    \n",
    "    i = 1\n",
    "    dest_end = None\n",
    "    while dest_end is None:\n",
    "        dest_start = (val - i) % (mod + 1)\n",
    "        dest_end = start_dict.get(dest_start)\n",
    "        i+=1\n",
    "\n",
    "    sub_dict[last_val] = dest_end\n",
    "\n",
    "    start_dict[dest_start] = cur_ptr\n",
    "    start_dict[val] = next_ptr\n",
    "    \n",
    "    start_dict.update(sub_dict)    \n",
    "\n",
    "    return(start_dict,next_ptr)"
   ]
  },
  {
   "cell_type": "code",
   "execution_count": 179,
   "metadata": {},
   "outputs": [
    {
     "output_type": "stream",
     "name": "stdout",
     "text": [
      "43896725\n"
     ]
    }
   ],
   "source": [
    "start  = [int(x) for x in list('589174263')]\n",
    "start_dict = dict(x for x in zip(start,start[1:]+start[:1]))\n",
    "\n",
    "n = 5\n",
    "for _ in range(100):\n",
    "    start_dict,n = game23(start_dict,n)\n",
    "\n",
    "n = 1\n",
    "out = ''\n",
    "while start_dict[n] != 1:\n",
    "    n = start_dict[n]\n",
    "    out += str(n)\n",
    "print(out)"
   ]
  },
  {
   "cell_type": "code",
   "execution_count": 178,
   "metadata": {},
   "outputs": [
    {
     "output_type": "stream",
     "name": "stdout",
     "text": [
      "137066 * 21241 = 2911418906\n"
     ]
    }
   ],
   "source": [
    "start  = [int(x) for x in list('589174263')] + [x for x in range(10,1000001)]\n",
    "start_dict = dict(x for x in zip(start,start[1:]+start[:1]))\n",
    "n = 5\n",
    "for _ in range(10000000):\n",
    "    start_dict,n = game23(start_dict,n,1000000)\n",
    "a = start_dict[1]\n",
    "b = start_dict[a]\n",
    "print (a, '*', b, '=', a*b)"
   ]
  },
  {
   "source": [
    "## Day 24"
   ],
   "cell_type": "markdown",
   "metadata": {}
  },
  {
   "cell_type": "code",
   "execution_count": 181,
   "metadata": {},
   "outputs": [],
   "source": [
    "d24 = aocd.get_data(day=24,year=2020)"
   ]
  },
  {
   "cell_type": "code",
   "execution_count": 250,
   "metadata": {},
   "outputs": [],
   "source": [
    "tiles = d24.split()"
   ]
  },
  {
   "cell_type": "code",
   "execution_count": 251,
   "metadata": {},
   "outputs": [],
   "source": [
    "flips = []\n",
    "for t in tiles:\n",
    "    se = t.count('se')\n",
    "    sw = t.count('sw')\n",
    "    ne = t.count('ne')\n",
    "    nw = t.count('nw')\n",
    "    ee = t.count('e') - se - ne\n",
    "    ww = t.count('w') - sw - nw\n",
    "    e = ee - ww + 0.5 * (se + ne - sw - nw)\n",
    "    n = (ne + nw - se - sw)\n",
    "    flips.append(tuple([e,n]))\n",
    "flip_count = collections.Counter(flips)"
   ]
  },
  {
   "cell_type": "code",
   "execution_count": 258,
   "metadata": {},
   "outputs": [
    {
     "output_type": "execute_result",
     "data": {
      "text/plain": [
       "377"
      ]
     },
     "metadata": {},
     "execution_count": 258
    }
   ],
   "source": [
    "sum(x%2 for x in flip_count.values())"
   ]
  },
  {
   "cell_type": "code",
   "execution_count": 253,
   "metadata": {},
   "outputs": [],
   "source": [
    "def flip_step(base_dict):\n",
    "    out_dict = {}\n",
    "    x_min = int(min([x[0] for x in base_dict.keys()]))\n",
    "    x_max = int(max([x[0] for x in base_dict.keys()]))\n",
    "    y_min = min([x[1] for x in base_dict.keys()])\n",
    "    y_max = max([x[1] for x in base_dict.keys()])\n",
    "\n",
    "    for x in range((x_min-1)*2, (x_max+2)*2):\n",
    "        for y in range(y_min-1, y_max+2):\n",
    "            n = base_dict.get((x/2-1,y),0) % 2\n",
    "            n += base_dict.get((x/2-.5,y+1),0) % 2 \n",
    "            n += base_dict.get((x/2+.5,y+1),0) % 2 \n",
    "            n += base_dict.get((x/2+1,y),0) % 2 \n",
    "            n += base_dict.get((x/2+.5,y-1),0)  % 2 \n",
    "            n += base_dict.get((x/2-.5,y-1),0) % 2 \n",
    "\n",
    "            c = base_dict.get((x/2,y),0) % 2 \n",
    "\n",
    "            if c == 1 and (n == 0 or n > 2):\n",
    "                out_dict[(x/2,y)] = 0\n",
    "\n",
    "            elif c == 0 and n == 2:\n",
    "                out_dict[(x/2,y)] = 1\n",
    "            else:\n",
    "                out_dict[(x/2,y)] = c\n",
    "    return(out_dict)\n",
    "            "
   ]
  },
  {
   "cell_type": "code",
   "execution_count": 254,
   "metadata": {},
   "outputs": [
    {
     "output_type": "execute_result",
     "data": {
      "text/plain": [
       "4231"
      ]
     },
     "metadata": {},
     "execution_count": 254
    }
   ],
   "source": [
    "start = flip_count\n",
    "for _ in range(100):\n",
    "    start = flip_step(start)\n",
    "\n",
    "sum(start.values())"
   ]
  },
  {
   "source": [
    "## Day 25"
   ],
   "cell_type": "markdown",
   "metadata": {}
  },
  {
   "cell_type": "code",
   "execution_count": 259,
   "metadata": {},
   "outputs": [],
   "source": [
    "d25 = aocd.get_data(day=25, year=2020)"
   ]
  },
  {
   "cell_type": "code",
   "execution_count": 300,
   "metadata": {},
   "outputs": [
    {
     "output_type": "stream",
     "name": "stdout",
     "text": [
      "7 1063910 10212254\n",
      "7 1388394 12577395\n"
     ]
    }
   ],
   "source": [
    "sub = 7\n",
    "val = 1\n",
    "for _ in range (10000000):\n",
    "    val = val * sub\n",
    "    val = val % 20201227\n",
    "    if val in [int(x) for x in d25.split()]:\n",
    "        print(sub,_,val)"
   ]
  },
  {
   "cell_type": "code",
   "execution_count": 298,
   "metadata": {},
   "outputs": [
    {
     "output_type": "stream",
     "name": "stdout",
     "text": [
      "290487\n"
     ]
    }
   ],
   "source": [
    "sub = 12577395\n",
    "val = 1\n",
    "for _ in range(1063911):\n",
    "    val = val * sub\n",
    "    val = val % 20201227\n",
    "\n",
    "print(val)"
   ]
  }
 ]
}