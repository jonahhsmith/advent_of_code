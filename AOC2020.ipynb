{
 "metadata": {
  "language_info": {
   "codemirror_mode": {
    "name": "ipython",
    "version": 3
   },
   "file_extension": ".py",
   "mimetype": "text/x-python",
   "name": "python",
   "nbconvert_exporter": "python",
   "pygments_lexer": "ipython3",
   "version": "3.8.5-final"
  },
  "orig_nbformat": 2,
  "kernelspec": {
   "name": "python3",
   "display_name": "Python 3.8.5 64-bit ('analysis-v0-mNGwj-uh-py3.8': venv)",
   "metadata": {
    "interpreter": {
     "hash": "98b3caed183d3c77e2e39d1172a4f90e71ab0d8f0dec0eade048e59ebf428d89"
    }
   }
  }
 },
 "nbformat": 4,
 "nbformat_minor": 2,
 "cells": [
  {
   "source": [
    "# Advent of Code"
   ],
   "cell_type": "markdown",
   "metadata": {}
  },
  {
   "source": [
    "import pandas as pd\n",
    "import numpy as np\n",
    "import aocd  # https://github.com/wimglenn/advent-of-code-data\n",
    "import collections\n",
    "import itertools\n",
    "import re"
   ],
   "cell_type": "code",
   "metadata": {},
   "execution_count": 35,
   "outputs": []
  },
  {
   "source": [
    "## Day 1"
   ],
   "cell_type": "markdown",
   "metadata": {}
  },
  {
   "cell_type": "code",
   "execution_count": 2,
   "metadata": {},
   "outputs": [],
   "source": [
    "d1 = aocd.get_data(day=1)"
   ]
  },
  {
   "cell_type": "code",
   "execution_count": 4,
   "metadata": {},
   "outputs": [],
   "source": [
    "def aoc11(data):\n",
    "    s1 = set(int(x) for x in data.split('\\n'))\n",
    "    s2 = set(2020 - int(x) for x in data.split('\\n'))\n",
    "    a1 = np.prod(list(s1.intersection(s2)))\n",
    "    return a1"
   ]
  },
  {
   "cell_type": "code",
   "execution_count": 6,
   "metadata": {},
   "outputs": [],
   "source": [
    "def aoc12(data):\n",
    "    s1 = set(int(x) for x in data.split('\\n'))\n",
    "    s2 = set(2020 - int(x) for x in data.split('\\n'))\n",
    "    a2 = np.prod(list(set(a for a in s1 for b in s1 if a+b in s2)))\n",
    "    return a2"
   ]
  },
  {
   "cell_type": "code",
   "execution_count": 5,
   "metadata": {},
   "outputs": [
    {
     "output_type": "stream",
     "name": "stdout",
     "text": [
      "108 µs ± 276 ns per loop (mean ± std. dev. of 7 runs, 10000 loops each)\n"
     ]
    }
   ],
   "source": [
    "%timeit aoc11(d1)"
   ]
  },
  {
   "cell_type": "code",
   "execution_count": 7,
   "metadata": {},
   "outputs": [
    {
     "output_type": "stream",
     "name": "stdout",
     "text": [
      "3.11 ms ± 29.8 µs per loop (mean ± std. dev. of 7 runs, 100 loops each)\n"
     ]
    }
   ],
   "source": [
    "%timeit aoc12(d1)"
   ]
  },
  {
   "cell_type": "code",
   "execution_count": 4,
   "metadata": {},
   "outputs": [],
   "source": [
    "s1 = set(int(x) for x in d1.split('\\n'))\n",
    "s2 = set(2020 - int(x) for x in d1.split('\\n'))"
   ]
  },
  {
   "cell_type": "code",
   "execution_count": 5,
   "metadata": {},
   "outputs": [],
   "source": [
    "a1 = np.prod(list(s1.intersection(s2)))"
   ]
  },
  {
   "cell_type": "code",
   "execution_count": 35,
   "metadata": {},
   "outputs": [
    {
     "output_type": "stream",
     "name": "stdout",
     "text": [
      "\u001b[33mYou don't seem to be solving the right level.  Did you already complete it? [Return to Day 1]\u001b[0m\n"
     ]
    },
    {
     "output_type": "execute_result",
     "data": {
      "text/plain": [
       "<Response [200]>"
      ]
     },
     "metadata": {},
     "execution_count": 35
    }
   ],
   "source": [
    "aocd.submit(a1, part='a', day=1, year=2020)"
   ]
  },
  {
   "cell_type": "code",
   "execution_count": 6,
   "metadata": {},
   "outputs": [],
   "source": [
    "a2 = np.prod(list(set(a for a in s1 for b in s1 if a+b in s2)))"
   ]
  },
  {
   "cell_type": "code",
   "execution_count": 46,
   "metadata": {},
   "outputs": [
    {
     "output_type": "stream",
     "name": "stdout",
     "text": [
      "\u001b[32mThat's the right answer!  You are one gold star closer to saving your vacation.You have completed Day 1! You can [Shareon\n  Twitter\nMastodon] this victory or [Return to Your Advent Calendar].\u001b[0m\n"
     ]
    },
    {
     "output_type": "execute_result",
     "data": {
      "text/plain": [
       "<Response [200]>"
      ]
     },
     "metadata": {},
     "execution_count": 46
    }
   ],
   "source": [
    "aocd.submit(a2, part='b', day=1, year=2020)"
   ]
  },
  {
   "source": [
    "## Day 2"
   ],
   "cell_type": "markdown",
   "metadata": {}
  },
  {
   "cell_type": "code",
   "execution_count": 8,
   "metadata": {},
   "outputs": [],
   "source": [
    "d2 = aocd.get_data(day=2)"
   ]
  },
  {
   "cell_type": "code",
   "execution_count": 22,
   "metadata": {},
   "outputs": [],
   "source": [
    "pswd = d2.split('\\n')"
   ]
  },
  {
   "cell_type": "code",
   "execution_count": 26,
   "metadata": {
    "tags": []
   },
   "outputs": [
    {
     "output_type": "execute_result",
     "data": {
      "text/plain": [
       "458"
      ]
     },
     "metadata": {},
     "execution_count": 26
    }
   ],
   "source": [
    "t = 0\n",
    "for e in pswd:\n",
    "    p_list = e.split()\n",
    "    low = int(p_list[0].split('-')[0])\n",
    "    high = int(p_list[0].split('-')[1])\n",
    "    ltr = p_list[1][0]\n",
    "    pwd = p_list[2]\n",
    "    if pwd.count(ltr) >= low and pwd.count(ltr) <= high:\n",
    "        t +=1\n",
    "\n",
    "t\n"
   ]
  },
  {
   "cell_type": "code",
   "execution_count": 28,
   "metadata": {},
   "outputs": [
    {
     "output_type": "execute_result",
     "data": {
      "text/plain": [
       "342"
      ]
     },
     "metadata": {},
     "execution_count": 28
    }
   ],
   "source": [
    "t = 0\n",
    "for e in pswd:\n",
    "    p_list = e.split()\n",
    "    low = int(p_list[0].split('-')[0])\n",
    "    high = int(p_list[0].split('-')[1])\n",
    "    ltr = p_list[1][0]\n",
    "    pwd = p_list[2]\n",
    "    if (pwd[low-1] == ltr and pwd[high-1] != ltr) or (pwd[low-1] != ltr and pwd[high-1] == ltr):\n",
    "        t +=1\n",
    "\n",
    "t"
   ]
  },
  {
   "source": [
    "## Day 3"
   ],
   "cell_type": "markdown",
   "metadata": {}
  },
  {
   "cell_type": "code",
   "execution_count": 2,
   "metadata": {},
   "outputs": [],
   "source": [
    "d3 = aocd.get_data(day=3)"
   ]
  },
  {
   "cell_type": "code",
   "execution_count": 33,
   "metadata": {
    "tags": []
   },
   "outputs": [
    {
     "output_type": "stream",
     "name": "stdout",
     "text": [
      "211\n3584591857\n"
     ]
    }
   ],
   "source": [
    "def slope(var):\n",
    "    out = 0\n",
    "    x = var // 10\n",
    "    y = var % 10\n",
    "    for i,e in enumerate(d3.split()[::y]):\n",
    "        if i == 0:\n",
    "            next\n",
    "        if e[(i*x) % len(e)]=='#':\n",
    "            out += 1 \n",
    "    return out\n",
    "\n",
    "#part 1\n",
    "print(slope(31))\n",
    "\n",
    "#part 2\n",
    "p=1\n",
    "for s in [11,31,51,71,12]:\n",
    "    p *= slope(s)\n",
    "print(p)\n"
   ]
  },
  {
   "source": [
    "## Day 4"
   ],
   "cell_type": "markdown",
   "metadata": {}
  },
  {
   "cell_type": "code",
   "execution_count": 36,
   "metadata": {},
   "outputs": [],
   "source": [
    "d4 = aocd.get_data(day=4, year=2020)"
   ]
  },
  {
   "cell_type": "code",
   "execution_count": 41,
   "metadata": {},
   "outputs": [],
   "source": [
    "passports = d4.split('\\n\\n')"
   ]
  },
  {
   "cell_type": "code",
   "execution_count": 49,
   "metadata": {},
   "outputs": [
    {
     "output_type": "stream",
     "name": "stdout",
     "text": [
      "200\n"
     ]
    }
   ],
   "source": [
    "#Part 1\n",
    "d4 = aocd.get_data(day=4, year=2020)\n",
    "passports = d4.split('\\n\\n')\n",
    "valdict = {'byr':1,'eyr':1,'pid':1,'hgt':1,'iyr':1, 'ecl':1, 'hcl':1,'cid':0}\n",
    "valid = 0\n",
    "for passport in passports:\n",
    "    if sum([valdict.get(p.split(':')[0]) for p in passport.split()]) == 7:\n",
    "        valid += 1\n",
    "print(valid)"
   ]
  },
  {
   "cell_type": "code",
   "execution_count": 86,
   "metadata": {},
   "outputs": [],
   "source": [
    "def passport_check(byr='0', eyr='0',pid='0',hgt='0',iyr='0', ecl='0', hcl='0',cid=None):\n",
    "    if int(byr) < 1920 or int(byr) >2002:\n",
    "        return 0\n",
    "    if int(iyr) < 2010 or int(iyr) >2020:\n",
    "        return 0\n",
    "    if int(eyr) < 2020 or int(eyr) >2030:\n",
    "        return 0\n",
    "\n",
    "    if hgt[-2:]=='in':\n",
    "        if int(hgt[:-2]) < 59 or int(hgt[:-2]) > 76:\n",
    "            return 0\n",
    "    elif hgt[-2:]=='cm':\n",
    "        if int(hgt[:-2]) < 150 or int(hgt[:-2]) > 193:\n",
    "            return 0\n",
    "    else:\n",
    "        return 0\n",
    "\n",
    "    if not(re.match(r'^#[a-f0-9]{6,6}$',hcl)):\n",
    "        return 0\n",
    "\n",
    "    if ecl not in ('amb', 'blu', 'brn', 'gry', 'grn', 'hzl', 'oth'):\n",
    "        return 0\n",
    "\n",
    "    if not(re.match(r'^[0-9]{9,9}$',pid)):\n",
    "        return 0\n",
    "\n",
    "    return 1\n",
    "    "
   ]
  },
  {
   "cell_type": "code",
   "execution_count": 87,
   "metadata": {},
   "outputs": [
    {
     "output_type": "stream",
     "name": "stdout",
     "text": [
      "116\n"
     ]
    }
   ],
   "source": [
    "valid = 0\n",
    "for passport in passports:\n",
    "    valid += passport_check(**{p.split(':')[0] : p.split(':')[1] for p in passport.split()})\n",
    "print(valid)"
   ]
  },
  {
   "cell_type": "code",
   "execution_count": 77,
   "metadata": {},
   "outputs": [
    {
     "output_type": "execute_result",
     "data": {
      "text/plain": [
       "['byr:1937',\n",
       " 'eyr:2030',\n",
       " 'pid:154364481',\n",
       " 'hgt:158cm',\n",
       " 'iyr:2015',\n",
       " 'ecl:brn',\n",
       " 'hcl:#c0946f',\n",
       " 'cid:155']"
      ]
     },
     "metadata": {},
     "execution_count": 77
    }
   ],
   "source": [
    "passports[0].split()"
   ]
  },
  {
   "cell_type": "code",
   "execution_count": 51,
   "metadata": {},
   "outputs": [],
   "source": [
    "\n"
   ]
  },
  {
   "cell_type": "code",
   "execution_count": 66,
   "metadata": {},
   "outputs": [
    {
     "output_type": "execute_result",
     "data": {
      "text/plain": [
       "<re.Match object; span=(0, 7), match='#a1f256'>"
      ]
     },
     "metadata": {},
     "execution_count": 66
    }
   ],
   "source": [
    "re.match(r'^#[a-f0-9]{6,6}$','#a1f256')"
   ]
  }
 ]
}