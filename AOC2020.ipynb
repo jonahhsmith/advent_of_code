{
 "metadata": {
  "language_info": {
   "codemirror_mode": {
    "name": "ipython",
    "version": 3
   },
   "file_extension": ".py",
   "mimetype": "text/x-python",
   "name": "python",
   "nbconvert_exporter": "python",
   "pygments_lexer": "ipython3",
   "version": "3.8.5-final"
  },
  "orig_nbformat": 2,
  "kernelspec": {
   "name": "python3",
   "display_name": "Python 3.8.5 64-bit ('analysis-v0-mNGwj-uh-py3.8': venv)",
   "metadata": {
    "interpreter": {
     "hash": "98b3caed183d3c77e2e39d1172a4f90e71ab0d8f0dec0eade048e59ebf428d89"
    }
   }
  }
 },
 "nbformat": 4,
 "nbformat_minor": 2,
 "cells": [
  {
   "source": [
    "# Advent of Code"
   ],
   "cell_type": "markdown",
   "metadata": {}
  },
  {
   "source": [
    "import pandas as pd\n",
    "import numpy as np\n",
    "import aocd  # https://github.com/wimglenn/advent-of-code-data\n",
    "import collections\n",
    "import itertools\n",
    "import re"
   ],
   "cell_type": "code",
   "metadata": {},
   "execution_count": 237,
   "outputs": []
  },
  {
   "source": [
    "## Day 1"
   ],
   "cell_type": "markdown",
   "metadata": {}
  },
  {
   "cell_type": "code",
   "execution_count": 2,
   "metadata": {},
   "outputs": [],
   "source": [
    "d1 = aocd.get_data(day=1)"
   ]
  },
  {
   "cell_type": "code",
   "execution_count": 4,
   "metadata": {},
   "outputs": [],
   "source": [
    "def aoc11(data):\n",
    "    s1 = set(int(x) for x in data.split('\\n'))\n",
    "    s2 = set(2020 - int(x) for x in data.split('\\n'))\n",
    "    a1 = np.prod(list(s1.intersection(s2)))\n",
    "    return a1"
   ]
  },
  {
   "cell_type": "code",
   "execution_count": 6,
   "metadata": {},
   "outputs": [],
   "source": [
    "def aoc12(data):\n",
    "    s1 = set(int(x) for x in data.split('\\n'))\n",
    "    s2 = set(2020 - int(x) for x in data.split('\\n'))\n",
    "    a2 = np.prod(list(set(a for a in s1 for b in s1 if a+b in s2)))\n",
    "    return a2"
   ]
  },
  {
   "cell_type": "code",
   "execution_count": 5,
   "metadata": {},
   "outputs": [
    {
     "output_type": "stream",
     "name": "stdout",
     "text": [
      "108 µs ± 276 ns per loop (mean ± std. dev. of 7 runs, 10000 loops each)\n"
     ]
    }
   ],
   "source": [
    "%timeit aoc11(d1)"
   ]
  },
  {
   "cell_type": "code",
   "execution_count": 7,
   "metadata": {},
   "outputs": [
    {
     "output_type": "stream",
     "name": "stdout",
     "text": [
      "3.11 ms ± 29.8 µs per loop (mean ± std. dev. of 7 runs, 100 loops each)\n"
     ]
    }
   ],
   "source": [
    "%timeit aoc12(d1)"
   ]
  },
  {
   "cell_type": "code",
   "execution_count": 4,
   "metadata": {},
   "outputs": [],
   "source": [
    "s1 = set(int(x) for x in d1.split('\\n'))\n",
    "s2 = set(2020 - int(x) for x in d1.split('\\n'))"
   ]
  },
  {
   "cell_type": "code",
   "execution_count": 5,
   "metadata": {},
   "outputs": [],
   "source": [
    "a1 = np.prod(list(s1.intersection(s2)))"
   ]
  },
  {
   "cell_type": "code",
   "execution_count": 35,
   "metadata": {},
   "outputs": [
    {
     "output_type": "stream",
     "name": "stdout",
     "text": [
      "\u001b[33mYou don't seem to be solving the right level.  Did you already complete it? [Return to Day 1]\u001b[0m\n"
     ]
    },
    {
     "output_type": "execute_result",
     "data": {
      "text/plain": [
       "<Response [200]>"
      ]
     },
     "metadata": {},
     "execution_count": 35
    }
   ],
   "source": [
    "aocd.submit(a1, part='a', day=1, year=2020)"
   ]
  },
  {
   "cell_type": "code",
   "execution_count": 6,
   "metadata": {},
   "outputs": [],
   "source": [
    "a2 = np.prod(list(set(a for a in s1 for b in s1 if a+b in s2)))"
   ]
  },
  {
   "cell_type": "code",
   "execution_count": 46,
   "metadata": {},
   "outputs": [
    {
     "output_type": "stream",
     "name": "stdout",
     "text": [
      "\u001b[32mThat's the right answer!  You are one gold star closer to saving your vacation.You have completed Day 1! You can [Shareon\n  Twitter\nMastodon] this victory or [Return to Your Advent Calendar].\u001b[0m\n"
     ]
    },
    {
     "output_type": "execute_result",
     "data": {
      "text/plain": [
       "<Response [200]>"
      ]
     },
     "metadata": {},
     "execution_count": 46
    }
   ],
   "source": [
    "aocd.submit(a2, part='b', day=1, year=2020)"
   ]
  },
  {
   "source": [
    "## Day 2"
   ],
   "cell_type": "markdown",
   "metadata": {}
  },
  {
   "cell_type": "code",
   "execution_count": 8,
   "metadata": {},
   "outputs": [],
   "source": [
    "d2 = aocd.get_data(day=2)"
   ]
  },
  {
   "cell_type": "code",
   "execution_count": 22,
   "metadata": {},
   "outputs": [],
   "source": [
    "pswd = d2.split('\\n')"
   ]
  },
  {
   "cell_type": "code",
   "execution_count": 26,
   "metadata": {
    "tags": []
   },
   "outputs": [
    {
     "output_type": "execute_result",
     "data": {
      "text/plain": [
       "458"
      ]
     },
     "metadata": {},
     "execution_count": 26
    }
   ],
   "source": [
    "t = 0\n",
    "for e in pswd:\n",
    "    p_list = e.split()\n",
    "    low = int(p_list[0].split('-')[0])\n",
    "    high = int(p_list[0].split('-')[1])\n",
    "    ltr = p_list[1][0]\n",
    "    pwd = p_list[2]\n",
    "    if pwd.count(ltr) >= low and pwd.count(ltr) <= high:\n",
    "        t +=1\n",
    "\n",
    "t\n"
   ]
  },
  {
   "cell_type": "code",
   "execution_count": 28,
   "metadata": {},
   "outputs": [
    {
     "output_type": "execute_result",
     "data": {
      "text/plain": [
       "342"
      ]
     },
     "metadata": {},
     "execution_count": 28
    }
   ],
   "source": [
    "t = 0\n",
    "for e in pswd:\n",
    "    p_list = e.split()\n",
    "    low = int(p_list[0].split('-')[0])\n",
    "    high = int(p_list[0].split('-')[1])\n",
    "    ltr = p_list[1][0]\n",
    "    pwd = p_list[2]\n",
    "    if (pwd[low-1] == ltr and pwd[high-1] != ltr) or (pwd[low-1] != ltr and pwd[high-1] == ltr):\n",
    "        t +=1\n",
    "\n",
    "t"
   ]
  },
  {
   "source": [
    "## Day 3"
   ],
   "cell_type": "markdown",
   "metadata": {}
  },
  {
   "cell_type": "code",
   "execution_count": 2,
   "metadata": {},
   "outputs": [],
   "source": [
    "d3 = aocd.get_data(day=3)"
   ]
  },
  {
   "cell_type": "code",
   "execution_count": 33,
   "metadata": {
    "tags": []
   },
   "outputs": [
    {
     "output_type": "stream",
     "name": "stdout",
     "text": [
      "211\n3584591857\n"
     ]
    }
   ],
   "source": [
    "def slope(var):\n",
    "    out = 0\n",
    "    x = var // 10\n",
    "    y = var % 10\n",
    "    for i,e in enumerate(d3.split()[::y]):\n",
    "        if i == 0:\n",
    "            next\n",
    "        if e[(i*x) % len(e)]=='#':\n",
    "            out += 1 \n",
    "    return out\n",
    "\n",
    "#part 1\n",
    "print(slope(31))\n",
    "\n",
    "#part 2\n",
    "p=1\n",
    "for s in [11,31,51,71,12]:\n",
    "    p *= slope(s)\n",
    "print(p)\n"
   ]
  },
  {
   "source": [
    "## Day 4"
   ],
   "cell_type": "markdown",
   "metadata": {}
  },
  {
   "cell_type": "code",
   "execution_count": 36,
   "metadata": {},
   "outputs": [],
   "source": [
    "d4 = aocd.get_data(day=4, year=2020)"
   ]
  },
  {
   "cell_type": "code",
   "execution_count": 41,
   "metadata": {},
   "outputs": [],
   "source": [
    "passports = d4.split('\\n\\n')"
   ]
  },
  {
   "cell_type": "code",
   "execution_count": 49,
   "metadata": {},
   "outputs": [
    {
     "output_type": "stream",
     "name": "stdout",
     "text": [
      "200\n"
     ]
    }
   ],
   "source": [
    "#Part 1\n",
    "d4 = aocd.get_data(day=4, year=2020)\n",
    "passports = d4.split('\\n\\n')\n",
    "valdict = {'byr':1,'eyr':1,'pid':1,'hgt':1,'iyr':1, 'ecl':1, 'hcl':1,'cid':0}\n",
    "valid = 0\n",
    "for passport in passports:\n",
    "    if sum([valdict.get(p.split(':')[0]) for p in passport.split()]) == 7:\n",
    "        valid += 1\n",
    "print(valid)"
   ]
  },
  {
   "cell_type": "code",
   "execution_count": 86,
   "metadata": {},
   "outputs": [],
   "source": [
    "def passport_check(byr='0', eyr='0',pid='0',hgt='0',iyr='0', ecl='0', hcl='0',cid=None):\n",
    "    if int(byr) < 1920 or int(byr) >2002:\n",
    "        return 0\n",
    "    if int(iyr) < 2010 or int(iyr) >2020:\n",
    "        return 0\n",
    "    if int(eyr) < 2020 or int(eyr) >2030:\n",
    "        return 0\n",
    "\n",
    "    if hgt[-2:]=='in':\n",
    "        if int(hgt[:-2]) < 59 or int(hgt[:-2]) > 76:\n",
    "            return 0\n",
    "    elif hgt[-2:]=='cm':\n",
    "        if int(hgt[:-2]) < 150 or int(hgt[:-2]) > 193:\n",
    "            return 0\n",
    "    else:\n",
    "        return 0\n",
    "\n",
    "    if not(re.match(r'^#[a-f0-9]{6,6}$',hcl)):\n",
    "        return 0\n",
    "\n",
    "    if ecl not in ('amb', 'blu', 'brn', 'gry', 'grn', 'hzl', 'oth'):\n",
    "        return 0\n",
    "\n",
    "    if not(re.match(r'^[0-9]{9,9}$',pid)):\n",
    "        return 0\n",
    "\n",
    "    return 1\n",
    "    "
   ]
  },
  {
   "cell_type": "code",
   "execution_count": 87,
   "metadata": {},
   "outputs": [
    {
     "output_type": "stream",
     "name": "stdout",
     "text": [
      "116\n"
     ]
    }
   ],
   "source": [
    "valid = 0\n",
    "for passport in passports:\n",
    "    valid += passport_check(**{p.split(':')[0] : p.split(':')[1] for p in passport.split()})\n",
    "print(valid)"
   ]
  },
  {
   "cell_type": "code",
   "execution_count": 155,
   "metadata": {},
   "outputs": [],
   "source": [
    "passports = [p.split() for p in d4.split('\\n\\n')]\n",
    "passports_dict = []\n",
    "for p in passports:\n",
    "    passports_dict.append(dict(e.split(':') for e in p))"
   ]
  },
  {
   "cell_type": "code",
   "execution_count": 158,
   "metadata": {},
   "outputs": [],
   "source": [
    "df = pd.DataFrame(passports_dict)"
   ]
  },
  {
   "cell_type": "code",
   "execution_count": 159,
   "metadata": {},
   "outputs": [
    {
     "output_type": "execute_result",
     "data": {
      "text/plain": [
       "200"
      ]
     },
     "metadata": {},
     "execution_count": 159
    }
   ],
   "source": [
    "df.dropna(subset=[\"iyr\", \"ecl\", \"hgt\", \"pid\", \"byr\", \"hcl\", \"eyr\"]).shape[0]"
   ]
  },
  {
   "cell_type": "code",
   "execution_count": 172,
   "metadata": {},
   "outputs": [],
   "source": [
    "# pd.to_numeric(df.hgt.str[:-2], errors='coerce') > 1\n",
    "df['byr'] = pd.to_numeric(df.byr,errors='coerce')\n",
    "df['eyr'] = pd.to_numeric(df.eyr,errors='coerce')\n",
    "df['iyr'] = pd.to_numeric(df.iyr,errors='coerce')\n",
    "df['hgtn'] = pd.to_numeric(df.hgt.str[:-2],errors='coerce')\n",
    "df['hgtl'] = df.hgt.str[-2:]"
   ]
  },
  {
   "cell_type": "code",
   "execution_count": 186,
   "metadata": {},
   "outputs": [
    {
     "output_type": "execute_result",
     "data": {
      "text/plain": [
       "        byr     eyr        pid    hgt     iyr  ecl      hcl  cid   hgtn hgtl\n",
       "0    1937.0  2030.0  154364481  158cm  2015.0  brn  #c0946f  155  158.0   cm\n",
       "2    1953.0  2023.0  282499883  181cm  2011.0  brn  #341e13  NaN  181.0   cm\n",
       "4    1966.0  2020.0  900693718  153cm  2014.0  gry  #866857  NaN  153.0   cm\n",
       "5    1939.0  2020.0  900852891  162cm  2020.0  oth  #b6652a  NaN  162.0   cm\n",
       "7    1938.0  2020.0  136823471  180cm  2011.0  gry  #c0946f  146  180.0   cm\n",
       "..      ...     ...        ...    ...     ...  ...      ...  ...    ...  ...\n",
       "252  1979.0  2028.0  874418818  166cm  2014.0  brn  #5311ca  202  166.0   cm\n",
       "253  1987.0  2027.0  986096798  161cm  2019.0  grn  #6b5442   74  161.0   cm\n",
       "255  1965.0  2023.0  214991920  185cm  2010.0  brn  #866857  236  185.0   cm\n",
       "256  1948.0  2025.0  885169578  175cm  2010.0  hzl  #18171d  NaN  175.0   cm\n",
       "262  1979.0  2023.0  945115479  188cm  2014.0  blu  #b6652a  NaN  188.0   cm\n",
       "\n",
       "[116 rows x 10 columns]"
      ],
      "text/html": "<div>\n<style scoped>\n    .dataframe tbody tr th:only-of-type {\n        vertical-align: middle;\n    }\n\n    .dataframe tbody tr th {\n        vertical-align: top;\n    }\n\n    .dataframe thead th {\n        text-align: right;\n    }\n</style>\n<table border=\"1\" class=\"dataframe\">\n  <thead>\n    <tr style=\"text-align: right;\">\n      <th></th>\n      <th>byr</th>\n      <th>eyr</th>\n      <th>pid</th>\n      <th>hgt</th>\n      <th>iyr</th>\n      <th>ecl</th>\n      <th>hcl</th>\n      <th>cid</th>\n      <th>hgtn</th>\n      <th>hgtl</th>\n    </tr>\n  </thead>\n  <tbody>\n    <tr>\n      <th>0</th>\n      <td>1937.0</td>\n      <td>2030.0</td>\n      <td>154364481</td>\n      <td>158cm</td>\n      <td>2015.0</td>\n      <td>brn</td>\n      <td>#c0946f</td>\n      <td>155</td>\n      <td>158.0</td>\n      <td>cm</td>\n    </tr>\n    <tr>\n      <th>2</th>\n      <td>1953.0</td>\n      <td>2023.0</td>\n      <td>282499883</td>\n      <td>181cm</td>\n      <td>2011.0</td>\n      <td>brn</td>\n      <td>#341e13</td>\n      <td>NaN</td>\n      <td>181.0</td>\n      <td>cm</td>\n    </tr>\n    <tr>\n      <th>4</th>\n      <td>1966.0</td>\n      <td>2020.0</td>\n      <td>900693718</td>\n      <td>153cm</td>\n      <td>2014.0</td>\n      <td>gry</td>\n      <td>#866857</td>\n      <td>NaN</td>\n      <td>153.0</td>\n      <td>cm</td>\n    </tr>\n    <tr>\n      <th>5</th>\n      <td>1939.0</td>\n      <td>2020.0</td>\n      <td>900852891</td>\n      <td>162cm</td>\n      <td>2020.0</td>\n      <td>oth</td>\n      <td>#b6652a</td>\n      <td>NaN</td>\n      <td>162.0</td>\n      <td>cm</td>\n    </tr>\n    <tr>\n      <th>7</th>\n      <td>1938.0</td>\n      <td>2020.0</td>\n      <td>136823471</td>\n      <td>180cm</td>\n      <td>2011.0</td>\n      <td>gry</td>\n      <td>#c0946f</td>\n      <td>146</td>\n      <td>180.0</td>\n      <td>cm</td>\n    </tr>\n    <tr>\n      <th>...</th>\n      <td>...</td>\n      <td>...</td>\n      <td>...</td>\n      <td>...</td>\n      <td>...</td>\n      <td>...</td>\n      <td>...</td>\n      <td>...</td>\n      <td>...</td>\n      <td>...</td>\n    </tr>\n    <tr>\n      <th>252</th>\n      <td>1979.0</td>\n      <td>2028.0</td>\n      <td>874418818</td>\n      <td>166cm</td>\n      <td>2014.0</td>\n      <td>brn</td>\n      <td>#5311ca</td>\n      <td>202</td>\n      <td>166.0</td>\n      <td>cm</td>\n    </tr>\n    <tr>\n      <th>253</th>\n      <td>1987.0</td>\n      <td>2027.0</td>\n      <td>986096798</td>\n      <td>161cm</td>\n      <td>2019.0</td>\n      <td>grn</td>\n      <td>#6b5442</td>\n      <td>74</td>\n      <td>161.0</td>\n      <td>cm</td>\n    </tr>\n    <tr>\n      <th>255</th>\n      <td>1965.0</td>\n      <td>2023.0</td>\n      <td>214991920</td>\n      <td>185cm</td>\n      <td>2010.0</td>\n      <td>brn</td>\n      <td>#866857</td>\n      <td>236</td>\n      <td>185.0</td>\n      <td>cm</td>\n    </tr>\n    <tr>\n      <th>256</th>\n      <td>1948.0</td>\n      <td>2025.0</td>\n      <td>885169578</td>\n      <td>175cm</td>\n      <td>2010.0</td>\n      <td>hzl</td>\n      <td>#18171d</td>\n      <td>NaN</td>\n      <td>175.0</td>\n      <td>cm</td>\n    </tr>\n    <tr>\n      <th>262</th>\n      <td>1979.0</td>\n      <td>2023.0</td>\n      <td>945115479</td>\n      <td>188cm</td>\n      <td>2014.0</td>\n      <td>blu</td>\n      <td>#b6652a</td>\n      <td>NaN</td>\n      <td>188.0</td>\n      <td>cm</td>\n    </tr>\n  </tbody>\n</table>\n<p>116 rows × 10 columns</p>\n</div>"
     },
     "metadata": {},
     "execution_count": 186
    }
   ],
   "source": [
    "df[   (df.byr.between(1920, 2002))\n",
    "    & (df.iyr.between(2010, 2020))\n",
    "    & (df.eyr.between(2020, 2030))\n",
    "    & (df.ecl.isin([\"amb\", \"blu\", \"brn\", \"gry\", \"grn\", \"hzl\", \"oth\"]))\n",
    "    & (df.pid.str.match(r'^[0-9]{9}$'))\n",
    "    & (df.hcl.str.match(r'^#[a-f0-9]{\n",
    "        6}$'))\n",
    "    & ( ((df.hgtl == 'cm') & (df.hgtn.between(150,193))) |\n",
    "        ((df.hgtl == 'in') & (df.hgtn.between( 59, 76))) )\n",
    "    ]"
   ]
  },
  {
   "source": [
    "## Day 5\n"
   ],
   "cell_type": "markdown",
   "metadata": {}
  },
  {
   "cell_type": "code",
   "execution_count": 187,
   "metadata": {},
   "outputs": [],
   "source": [
    "d5 = aocd.get_data(day=5,year=2020)"
   ]
  },
  {
   "cell_type": "code",
   "execution_count": 202,
   "metadata": {},
   "outputs": [
    {
     "output_type": "execute_result",
     "data": {
      "text/plain": [
       "933"
      ]
     },
     "metadata": {},
     "execution_count": 202
    }
   ],
   "source": [
    "d5 = d5.replace('B','1')\n",
    "d5 = d5.replace('F','0')\n",
    "d5 = d5.replace('R','1')\n",
    "d5 = d5.replace('L','0')\n",
    "\n",
    "seat_val = []\n",
    "for seat in d5.split():\n",
    "    seat_val.append(int(seat[:7],2) * 8 + int(seat[7:],2))\n"
   ]
  },
  {
   "cell_type": "code",
   "execution_count": 195,
   "metadata": {},
   "outputs": [
    {
     "output_type": "execute_result",
     "data": {
      "text/plain": [
       "1865"
      ]
     },
     "metadata": {},
     "execution_count": 195
    }
   ],
   "source": [
    "max(seat_val)"
   ]
  },
  {
   "cell_type": "code",
   "execution_count": 206,
   "metadata": {},
   "outputs": [
    {
     "output_type": "stream",
     "name": "stdout",
     "text": [
      "711\n"
     ]
    }
   ],
   "source": [
    "for i in range(min(seat_val),max(seat_val)):\n",
    "    if i not in seat_val:\n",
    "        print(i)\n"
   ]
  },
  {
   "source": [
    "## Day 6"
   ],
   "cell_type": "markdown",
   "metadata": {}
  },
  {
   "cell_type": "code",
   "execution_count": 211,
   "metadata": {},
   "outputs": [],
   "source": [
    "d6 = aocd.get_data(day=6,year=2020)"
   ]
  },
  {
   "cell_type": "code",
   "execution_count": 235,
   "metadata": {},
   "outputs": [
    {
     "output_type": "stream",
     "name": "stdout",
     "text": [
      "6310\n"
     ]
    }
   ],
   "source": [
    "a = 0\n",
    "for q in d6.split('\\n\\n'):\n",
    "    a += len(collections.Counter(q.replace('\\n','')))\n",
    "\n",
    "print(a)"
   ]
  },
  {
   "cell_type": "code",
   "execution_count": 234,
   "metadata": {
    "tags": []
   },
   "outputs": [
    {
     "output_type": "stream",
     "name": "stdout",
     "text": [
      "3193\n"
     ]
    }
   ],
   "source": [
    "a=0\n",
    "for q in d6.split('\\n\\n'):\n",
    "    g_dict = collections.Counter(q.replace('\\n',''))\n",
    "    g_size = len(q.split())\n",
    "    for v in g_dict.values():\n",
    "        if v == g_size:\n",
    "            a += 1\n",
    "print(a)"
   ]
  },
  {
   "source": [
    "## Day 7"
   ],
   "cell_type": "markdown",
   "metadata": {}
  },
  {
   "cell_type": "code",
   "execution_count": 238,
   "metadata": {},
   "outputs": [],
   "source": [
    "d7 = aocd.get_data(day=7,year=2020)"
   ]
  },
  {
   "cell_type": "code",
   "execution_count": 242,
   "metadata": {},
   "outputs": [],
   "source": [
    "all_bags = d7.split('\\n')"
   ]
  },
  {
   "cell_type": "code",
   "execution_count": 312,
   "metadata": {
    "tags": []
   },
   "outputs": [],
   "source": [
    "# parse data into dict of dicts\n",
    "all_bag_list = {}\n",
    "for rule in all_bags:\n",
    "    bag_list = rule.split('bags contain')\n",
    "    container = bag_list[0].strip()\n",
    "    contents = bag_list[1].split(',')\n",
    "    nums = []\n",
    "    colors = []\n",
    "    for detail in contents:\n",
    "        nums.append(int(detail.replace('no other ','0 ').split()[0].strip()))\n",
    "        for color in re.split(r\"\\d \",detail)[1:]:\n",
    "            colors.append(color.split(' bag')[0])\n",
    "    all_bag_list[container] = dict(zip(colors,nums))\n"
   ]
  },
  {
   "cell_type": "code",
   "execution_count": 314,
   "metadata": {
    "tags": []
   },
   "outputs": [
    {
     "output_type": "stream",
     "name": "stdout",
     "text": [
      "161\n"
     ]
    }
   ],
   "source": [
    "\n",
    "# part 1\n",
    "out = ['shiny gold']\n",
    "\n",
    "restart = 1\n",
    "\n",
    "while restart == 1:\n",
    "    restart = 0\n",
    "    # look at all parent / child relationships\n",
    "    for parent, children in all_bag_list.items():\n",
    "\n",
    "        for child, num in children.items():\n",
    "            # test if each child is in the test set\n",
    "            # if the parent is already included skip, otherwise add parent and rerun from the beginning\n",
    "            if child in out and parent not in out:\n",
    "                out.append(parent)\n",
    "                restart = 1\n",
    "\n",
    "# find length of unique set and remove seed value\n",
    "print(len(set(out))-1)\n"
   ]
  },
  {
   "cell_type": "code",
   "execution_count": 351,
   "metadata": {},
   "outputs": [
    {
     "output_type": "stream",
     "name": "stdout",
     "text": [
      "30899\n"
     ]
    }
   ],
   "source": [
    "# PART 2\n",
    "\n",
    "new = [['shiny gold',1]]\n",
    "cnt = 0\n",
    "\n",
    "while len(new) != 0:\n",
    "    add_item, mult = new.pop()\n",
    "    for k,v in all_bag_list.get(add_item).items():\n",
    "        new.append([k,v * mult])\n",
    "        cnt += v * mult\n",
    "print(cnt)"
   ]
  }
 ]
}