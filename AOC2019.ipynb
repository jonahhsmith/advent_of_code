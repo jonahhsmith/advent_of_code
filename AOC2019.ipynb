{
 "metadata": {
  "language_info": {
   "codemirror_mode": {
    "name": "ipython",
    "version": 3
   },
   "file_extension": ".py",
   "mimetype": "text/x-python",
   "name": "python",
   "nbconvert_exporter": "python",
   "pygments_lexer": "ipython3",
   "version": "3.8.5-final"
  },
  "orig_nbformat": 2,
  "kernelspec": {
   "name": "python3",
   "display_name": "Python 3"
  }
 },
 "nbformat": 4,
 "nbformat_minor": 2,
 "cells": [
  {
   "source": [
    "# AOC 2019"
   ],
   "cell_type": "markdown",
   "metadata": {}
  },
  {
   "cell_type": "code",
   "execution_count": 1,
   "metadata": {},
   "outputs": [],
   "source": [
    "import pandas as pd\n",
    "import numpy as np\n",
    "import aocd\n",
    "import math"
   ]
  },
  {
   "source": [
    "## Day 1"
   ],
   "cell_type": "markdown",
   "metadata": {}
  },
  {
   "cell_type": "code",
   "execution_count": 5,
   "metadata": {},
   "outputs": [],
   "source": [
    "d1 = [int(x) for x in aocd.get_data(day=1,year=2019).split()]"
   ]
  },
  {
   "cell_type": "code",
   "execution_count": 7,
   "metadata": {},
   "outputs": [],
   "source": [
    "df1 = pd.DataFrame(d1)"
   ]
  },
  {
   "cell_type": "code",
   "execution_count": 13,
   "metadata": {},
   "outputs": [],
   "source": [
    "a11 = np.sum(df1[0] // 3 - 2)"
   ]
  },
  {
   "cell_type": "code",
   "execution_count": 45,
   "metadata": {},
   "outputs": [],
   "source": [
    "i = 0\n",
    "while np.sum(df1[i]) > 0:\n",
    "    i += 1\n",
    "    df1[i] = (df1[i - 1] // 3 - 2).clip(0)\n",
    "    next\n",
    "\n",
    "a12 = np.sum(np.sum(df1.iloc[:,1:]))\n"
   ]
  },
  {
   "source": [
    "## Day 2"
   ],
   "cell_type": "markdown",
   "metadata": {}
  },
  {
   "cell_type": "code",
   "execution_count": 65,
   "metadata": {},
   "outputs": [],
   "source": [
    "d2 = [int(x) for x in aocd.get_data(day=2,year=2019).split(',')]"
   ]
  },
  {
   "cell_type": "code",
   "execution_count": 68,
   "metadata": {},
   "outputs": [],
   "source": [
    "\n",
    "def intcode(data,p1=12,p2=2):\n",
    "    out = data[:]\n",
    "    out[1] = p1\n",
    "    out[2] = p2\n",
    "\n",
    "    oploc = 0\n",
    "    opcode = out[oploc]\n",
    "\n",
    "    while opcode != 99:\n",
    "        if opcode == 1:\n",
    "            out[out[oploc + 3]] = out[out[oploc + 1]] + out[out[oploc + 2]]\n",
    "            oploc += 4\n",
    "        elif opcode == 2:\n",
    "            out[out[oploc + 3]] = out[out[oploc + 1]] * out[out[oploc + 2]]\n",
    "            oploc += 4\n",
    "        opcode = out[oploc]\n",
    "    return out[0]"
   ]
  },
  {
   "cell_type": "code",
   "execution_count": 70,
   "metadata": {},
   "outputs": [],
   "source": [
    "a21 = intcode(d2)"
   ]
  },
  {
   "cell_type": "code",
   "execution_count": 73,
   "metadata": {},
   "outputs": [
    {
     "output_type": "execute_result",
     "data": {
      "text/plain": [
       "7264"
      ]
     },
     "metadata": {},
     "execution_count": 73
    }
   ],
   "source": [
    "def intcode_test(test_value=19690720,nrange=100,vrange=100):\n",
    "    for n in range(nrange):\n",
    "        for v in range(vrange):\n",
    "            if test_value == intcode(d2,n,v):\n",
    "                return(100 * n + v)"
   ]
  },
  {
   "cell_type": "code",
   "execution_count": 74,
   "metadata": {},
   "outputs": [],
   "source": [
    "a22 = intcode_test()"
   ]
  },
  {
   "source": [
    "## Day 3"
   ],
   "cell_type": "markdown",
   "metadata": {}
  },
  {
   "cell_type": "code",
   "execution_count": 82,
   "metadata": {},
   "outputs": [],
   "source": [
    "d3 = aocd.get_data(day=3,year=2019)"
   ]
  },
  {
   "cell_type": "code",
   "execution_count": 81,
   "metadata": {},
   "outputs": [
    {
     "output_type": "execute_result",
     "data": {
      "text/plain": [
       "'1003'"
      ]
     },
     "metadata": {},
     "execution_count": 81
    }
   ],
   "source": [
    "for w in d3.split():\n",
    "    path = w.split(',')\n",
    "    c = [[0,0]]\n",
    "    for e in path:\n",
    "        if e[0] = 'R':\n",
    "            \n",
    "\n",
    "w1 = d3.split()[0].split(',')[0][1:]"
   ]
  },
  {
   "cell_type": "code",
   "execution_count": null,
   "metadata": {},
   "outputs": [],
   "source": [
    "(0,0)"
   ]
  },
  {
   "source": [
    "## Day 16"
   ],
   "cell_type": "markdown",
   "metadata": {}
  },
  {
   "cell_type": "code",
   "execution_count": 2,
   "metadata": {},
   "outputs": [],
   "source": [
    "d16 = aocd.get_data(day=16, year=2019)"
   ]
  },
  {
   "cell_type": "code",
   "execution_count": 34,
   "metadata": {},
   "outputs": [
    {
     "output_type": "stream",
     "name": "stdout",
     "text": [
      "[1 9 2 3 9 4 6 8]\n"
     ]
    }
   ],
   "source": [
    "# part 1\n",
    "pattern = [0,1,0,-1]\n",
    "start = np.array([int(e) for e in d16])\n",
    "out = start.copy()\n",
    "for _ in range(100):\n",
    "    for i in range(len(start)):\n",
    "        pattern_app = np.resize(np.roll(np.repeat(pattern,i+1),-1),len(start))\n",
    "        out[i] = abs(np.sum(np.multiply(pattern_app,start))) % 10\n",
    "    start = out.copy()\n",
    "\n",
    "print(out[:8])"
   ]
  },
  {
   "cell_type": "code",
   "execution_count": 13,
   "metadata": {},
   "outputs": [],
   "source": [
    "start = np.resize(start,len(start)*10000)"
   ]
  },
  {
   "cell_type": "code",
   "execution_count": 39,
   "metadata": {},
   "outputs": [
    {
     "output_type": "stream",
     "name": "stdout",
     "text": [
      "[9 6 9 6 6 2 2 1]\n"
     ]
    }
   ],
   "source": [
    "# Repeate 10k times and reverse array after cutoff point\n",
    "start = np.array([int(e) for e in d16])\n",
    "shalf = np.resize(start,len(start)*10000)[int(d16[:7]):]\n",
    "\n",
    "out = shalf[::-1].copy()\n",
    "for _ in range(100):\n",
    "    out = np.cumsum(out) % 10\n",
    "print(out[:-9:-1])"
   ]
  },
  {
   "source": [
    "## Day 17"
   ],
   "cell_type": "markdown",
   "metadata": {}
  },
  {
   "cell_type": "code",
   "execution_count": null,
   "metadata": {},
   "outputs": [],
   "source": []
  }
 ]
}