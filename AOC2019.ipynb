{
 "metadata": {
  "language_info": {
   "codemirror_mode": {
    "name": "ipython",
    "version": 3
   },
   "file_extension": ".py",
   "mimetype": "text/x-python",
   "name": "python",
   "nbconvert_exporter": "python",
   "pygments_lexer": "ipython3",
   "version": "3.8.5-final"
  },
  "orig_nbformat": 2,
  "kernelspec": {
   "name": "python3",
   "display_name": "Python 3"
  }
 },
 "nbformat": 4,
 "nbformat_minor": 2,
 "cells": [
  {
   "source": [
    "# AOC 2019"
   ],
   "cell_type": "markdown",
   "metadata": {}
  },
  {
   "cell_type": "code",
   "execution_count": 239,
   "metadata": {},
   "outputs": [],
   "source": [
    "import pandas as pd\n",
    "import numpy as np\n",
    "import aocd\n",
    "import math\n",
    "import collections"
   ]
  },
  {
   "source": [
    "## Day 1"
   ],
   "cell_type": "markdown",
   "metadata": {}
  },
  {
   "cell_type": "code",
   "execution_count": 240,
   "metadata": {},
   "outputs": [],
   "source": [
    "d1 = [int(x) for x in aocd.get_data(day=1,year=2019).split()]"
   ]
  },
  {
   "cell_type": "code",
   "execution_count": 241,
   "metadata": {},
   "outputs": [],
   "source": [
    "df1 = pd.DataFrame(d1)"
   ]
  },
  {
   "cell_type": "code",
   "execution_count": 242,
   "metadata": {},
   "outputs": [],
   "source": [
    "a11 = np.sum(df1[0] // 3 - 2)"
   ]
  },
  {
   "cell_type": "code",
   "execution_count": 243,
   "metadata": {},
   "outputs": [],
   "source": [
    "i = 0\n",
    "while np.sum(df1[i]) > 0:\n",
    "    i += 1\n",
    "    df1[i] = (df1[i - 1] // 3 - 2).clip(0)\n",
    "    next\n",
    "\n",
    "a12 = np.sum(np.sum(df1.iloc[:,1:]))\n"
   ]
  },
  {
   "cell_type": "code",
   "execution_count": 244,
   "metadata": {},
   "outputs": [
    {
     "output_type": "stream",
     "name": "stdout",
     "text": [
      "3471229 5203967\n"
     ]
    }
   ],
   "source": [
    "print(a11,a12)"
   ]
  },
  {
   "source": [
    "## Day 2"
   ],
   "cell_type": "markdown",
   "metadata": {}
  },
  {
   "cell_type": "code",
   "execution_count": 245,
   "metadata": {},
   "outputs": [],
   "source": [
    "d2 = [int(x) for x in aocd.get_data(day=2,year=2019).split(',')]"
   ]
  },
  {
   "cell_type": "code",
   "execution_count": 246,
   "metadata": {},
   "outputs": [],
   "source": [
    "\n",
    "def intcode(data,p1=12,p2=2):\n",
    "    out = data[:]\n",
    "    out[1] = p1\n",
    "    out[2] = p2\n",
    "\n",
    "    oploc = 0\n",
    "    opcode = out[oploc]\n",
    "\n",
    "    while opcode != 99:\n",
    "        if opcode == 1:\n",
    "            out[out[oploc + 3]] = out[out[oploc + 1]] + out[out[oploc + 2]]\n",
    "            oploc += 4\n",
    "        elif opcode == 2:\n",
    "            out[out[oploc + 3]] = out[out[oploc + 1]] * out[out[oploc + 2]]\n",
    "            oploc += 4\n",
    "        elif opcode == 3:\n",
    "            out[out[oploc + 1]] = out[out[oploc + 1]] * out[out[oploc + 2]]\n",
    "            oploc += 4\n",
    "        opcode = out[oploc]\n",
    "    return out[0]"
   ]
  },
  {
   "cell_type": "code",
   "execution_count": 247,
   "metadata": {},
   "outputs": [],
   "source": [
    "a21 = intcode(d2)"
   ]
  },
  {
   "cell_type": "code",
   "execution_count": 248,
   "metadata": {},
   "outputs": [],
   "source": [
    "def intcode_test(test_value=19690720,nrange=100,vrange=100):\n",
    "    for n in range(nrange):\n",
    "        for v in range(vrange):\n",
    "            if test_value == intcode(d2,n,v):\n",
    "                return(100 * n + v)"
   ]
  },
  {
   "cell_type": "code",
   "execution_count": 249,
   "metadata": {},
   "outputs": [],
   "source": [
    "a22 = intcode_test()"
   ]
  },
  {
   "cell_type": "code",
   "execution_count": 250,
   "metadata": {},
   "outputs": [
    {
     "output_type": "stream",
     "name": "stdout",
     "text": [
      "4138658 7264\n"
     ]
    }
   ],
   "source": [
    "print(a21,a22)"
   ]
  },
  {
   "source": [
    "## Day 3"
   ],
   "cell_type": "markdown",
   "metadata": {}
  },
  {
   "cell_type": "code",
   "execution_count": 251,
   "metadata": {},
   "outputs": [],
   "source": [
    "d3 = aocd.get_data(day=3,year=2019)"
   ]
  },
  {
   "cell_type": "code",
   "execution_count": 252,
   "metadata": {},
   "outputs": [],
   "source": [
    "wires = [[[0,0]],[[0,0]]]\n",
    "\n",
    "for i, wire in enumerate(d3.split()):\n",
    "    path = wire.split(',')\n",
    "    for e in path:\n",
    "        start = wires[i][-1]\n",
    "        for step in range(int(e[1:])):\n",
    "            if e[0] == 'R':\n",
    "                wires[i].append([start[0],start[1]+(1+step)])\n",
    "            elif e[0] == 'L':\n",
    "                wires[i].append([start[0],start[1]-(1+step)])\n",
    "            elif e[0] == 'U':\n",
    "                wires[i].append([start[0]+(1+step),start[1]])\n",
    "            elif e[0] == 'D':\n",
    "                wires[i].append([start[0]-(1+step),start[1]])"
   ]
  },
  {
   "cell_type": "code",
   "execution_count": 253,
   "metadata": {},
   "outputs": [],
   "source": [
    "w0 = pd.DataFrame(wires[0],columns=['x','y'])\n",
    "w1 = pd.DataFrame(wires[1],columns=['x','y'])"
   ]
  },
  {
   "cell_type": "code",
   "execution_count": 254,
   "metadata": {},
   "outputs": [],
   "source": [
    "common = pd.merge(w0.reset_index(),w1.reset_index(), on=('x','y'),how='inner')[1:]"
   ]
  },
  {
   "cell_type": "code",
   "execution_count": 255,
   "metadata": {},
   "outputs": [
    {
     "output_type": "stream",
     "name": "stdout",
     "text": [
      "2050\n21666\n"
     ]
    }
   ],
   "source": [
    "print(np.min(abs(common.x) + abs(common.y)))\n",
    "print(np.min(common.index_x+common.index_y))"
   ]
  },
  {
   "source": [
    "## Day 4"
   ],
   "cell_type": "markdown",
   "metadata": {}
  },
  {
   "cell_type": "code",
   "execution_count": 256,
   "metadata": {},
   "outputs": [],
   "source": [
    "d4 = aocd.get_data(day=4,year=2019)"
   ]
  },
  {
   "cell_type": "code",
   "execution_count": 257,
   "metadata": {},
   "outputs": [
    {
     "output_type": "execute_result",
     "data": {
      "text/plain": [
       "'134564-585159'"
      ]
     },
     "metadata": {},
     "execution_count": 257
    }
   ],
   "source": [
    "d4"
   ]
  },
  {
   "cell_type": "code",
   "execution_count": 258,
   "metadata": {},
   "outputs": [
    {
     "output_type": "stream",
     "name": "stdout",
     "text": [
      "1929\n1306\n"
     ]
    }
   ],
   "source": [
    "cnt = 0\n",
    "pwds = []\n",
    "for pwd in range(*[int(x) for x in d4.split('-')]):\n",
    "    # cnt += 1\n",
    "    pwdstr = str(pwd)\n",
    "    if pwdstr[0] > pwdstr[1]:\n",
    "        continue\n",
    "    elif pwdstr[1] > pwdstr[2]:\n",
    "        continue\n",
    "    elif pwdstr[2] > pwdstr[3]:\n",
    "        continue\n",
    "    elif pwdstr[3] > pwdstr[4]:\n",
    "        continue\n",
    "    elif pwdstr[4] > pwdstr[5]:\n",
    "        continue\n",
    "    elif max(collections.Counter(pwdstr).values()) < 2:\n",
    "        continue\n",
    "    else:\n",
    "        pwds.append(pwdstr)\n",
    "\n",
    "# PART 1\n",
    "print(len(pwds))\n",
    "\n",
    "# PART 2\n",
    "pwds2 = []\n",
    "for pwd in pwds:\n",
    "    if 2 not in collections.Counter(pwd).values():\n",
    "        continue\n",
    "    else:\n",
    "        pwds2.append(pwd)\n",
    "\n",
    "print(len(pwds2))\n",
    "\n"
   ]
  },
  {
   "source": [
    "## Day 5"
   ],
   "cell_type": "markdown",
   "metadata": {}
  },
  {
   "cell_type": "code",
   "execution_count": 260,
   "metadata": {},
   "outputs": [],
   "source": [
    "d5 = aocd.get_data(day=5,year=2019)"
   ]
  },
  {
   "cell_type": "code",
   "execution_count": null,
   "metadata": {},
   "outputs": [],
   "source": []
  },
  {
   "source": [
    "## Day 16"
   ],
   "cell_type": "markdown",
   "metadata": {}
  },
  {
   "cell_type": "code",
   "execution_count": 2,
   "metadata": {},
   "outputs": [],
   "source": [
    "d16 = aocd.get_data(day=16, year=2019)"
   ]
  },
  {
   "cell_type": "code",
   "execution_count": 34,
   "metadata": {},
   "outputs": [
    {
     "output_type": "stream",
     "name": "stdout",
     "text": [
      "[1 9 2 3 9 4 6 8]\n"
     ]
    }
   ],
   "source": [
    "# part 1\n",
    "pattern = [0,1,0,-1]\n",
    "start = np.array([int(e) for e in d16])\n",
    "out = start.copy()\n",
    "for _ in range(100):\n",
    "    for i in range(len(start)):\n",
    "        pattern_app = np.resize(np.roll(np.repeat(pattern,i+1),-1),len(start))\n",
    "        out[i] = abs(np.sum(np.multiply(pattern_app,start))) % 10\n",
    "    start = out.copy()\n",
    "\n",
    "print(out[:8])"
   ]
  },
  {
   "cell_type": "code",
   "execution_count": 13,
   "metadata": {},
   "outputs": [],
   "source": [
    "start = np.resize(start,len(start)*10000)"
   ]
  },
  {
   "cell_type": "code",
   "execution_count": 39,
   "metadata": {},
   "outputs": [
    {
     "output_type": "stream",
     "name": "stdout",
     "text": [
      "[9 6 9 6 6 2 2 1]\n"
     ]
    }
   ],
   "source": [
    "# Repeate 10k times and reverse array after cutoff point\n",
    "start = np.array([int(e) for e in d16])\n",
    "shalf = np.resize(start,len(start)*10000)[int(d16[:7]):]\n",
    "\n",
    "out = shalf[::-1].copy()\n",
    "for _ in range(100):\n",
    "    out = np.cumsum(out) % 10\n",
    "print(out[:-9:-1])"
   ]
  },
  {
   "source": [
    "## Day 24"
   ],
   "cell_type": "markdown",
   "metadata": {}
  },
  {
   "cell_type": "code",
   "execution_count": 236,
   "metadata": {},
   "outputs": [],
   "source": [
    "# d24 = [int(i) for x in  aocd.get_data(day=24,year=2019).replace('.','0').replace('#','1').split() for i in list(x) ]\n",
    "d24 = aocd.get_data(day=24,year=2019)"
   ]
  },
  {
   "cell_type": "code",
   "execution_count": 237,
   "metadata": {},
   "outputs": [
    {
     "output_type": "execute_result",
     "data": {
      "text/plain": [
       "'0010101011110000101011100'"
      ]
     },
     "metadata": {},
     "execution_count": 237
    }
   ],
   "source": [
    "str24 = d24.replace('.','0').replace('#','1').replace('\\n','') "
   ]
  },
  {
   "cell_type": "code",
   "execution_count": 238,
   "metadata": {},
   "outputs": [
    {
     "output_type": "execute_result",
     "data": {
      "text/plain": [
       "(array([ 2,  4,  6,  8,  9, 10, 11, 16, 18, 20, 21, 22]),)"
      ]
     },
     "metadata": {},
     "execution_count": 238
    }
   ],
   "source": [
    "a24 = np.array([int(x) for x in list(d24)#.reshape(5,5)\n",
    "np.where(a24 == 1)"
   ]
  },
  {
   "cell_type": "code",
   "execution_count": 181,
   "metadata": {},
   "outputs": [
    {
     "output_type": "execute_result",
     "data": {
      "text/plain": [
       "7671636"
      ]
     },
     "metadata": {},
     "execution_count": 181
    }
   ],
   "source": [
    "# a24 = np.array([0,0,0,0,0,0,0,0,0,0,0,0,0,0,0,1,0,0,0,0,0,1,0,0,0])\n",
    "\n",
    "np.sum(np.power(2, np.where(a24==1)))"
   ]
  },
  {
   "cell_type": "code",
   "execution_count": 188,
   "metadata": {},
   "outputs": [],
   "source": [
    "array_list = [[a24]]"
   ]
  },
  {
   "cell_type": "code",
   "execution_count": 193,
   "metadata": {},
   "outputs": [
    {
     "output_type": "error",
     "ename": "AttributeError",
     "evalue": "'numpy.ndarray' object has no attribute 'indices'",
     "traceback": [
      "\u001b[0;31m---------------------------------------------------------------------------\u001b[0m",
      "\u001b[0;31mAttributeError\u001b[0m                            Traceback (most recent call last)",
      "\u001b[0;32m<ipython-input-193-59500bfbcce8>\u001b[0m in \u001b[0;36m<module>\u001b[0;34m\u001b[0m\n\u001b[0;32m----> 1\u001b[0;31m \u001b[0ma24\u001b[0m\u001b[0;34m.\u001b[0m\u001b[0mindices\u001b[0m\u001b[0;34m\u001b[0m\u001b[0;34m\u001b[0m\u001b[0m\n\u001b[0m",
      "\u001b[0;31mAttributeError\u001b[0m: 'numpy.ndarray' object has no attribute 'indices'"
     ]
    }
   ],
   "source": [
    "a24.indices"
   ]
  },
  {
   "cell_type": "code",
   "execution_count": 234,
   "metadata": {},
   "outputs": [],
   "source": [
    "def bug_cycle(input_string):\n",
    "    tops = [x for x in range(5)]\n",
    "    bottoms = [x + 20 for x in range(5)]\n",
    "    lefts = [x * 5 for x in range(5)]\n",
    "    rights = [x * 5 + 4 for x in range(5)]\n",
    "    output_list = []\n",
    "    for i, e in enumerate(list(input_string)):\n",
    "        check = 0\n",
    "        if i in tops:\n",
    "            check += 0 \n",
    "        else:\n",
    "            check += int(input_string[i-5])\n",
    "\n",
    "        if i in bottoms:\n",
    "            check += 0 \n",
    "        else:\n",
    "            check += int(input_string[i+5])\n",
    "\n",
    "        if i in lefts:\n",
    "            check += 0 \n",
    "        else:\n",
    "            check += int(input_string[i-1])\n",
    "\n",
    "        if i in rights:\n",
    "            check += 0 \n",
    "        else:\n",
    "            check += int(input_string[i+1])\n",
    "        \n",
    "        if int(e) * check == 1 or (e == '0' and check in (1,2)):\n",
    "            output_list.append('1')\n",
    "        else:\n",
    "            output_list.append('0')\n",
    "\n",
    "        output_string = ''.join(output_list)\n",
    "\n",
    "    return(output_string)"
   ]
  },
  {
   "cell_type": "code",
   "execution_count": 235,
   "metadata": {},
   "outputs": [
    {
     "output_type": "execute_result",
     "data": {
      "text/plain": [
       "'0100111010101110000110110'"
      ]
     },
     "metadata": {},
     "execution_count": 235
    }
   ],
   "source": [
    "# print(a24.reshape(5,5))\n",
    "# print(''.join([str(int(x)) for x in bug_cycle(a24)]))\n",
    "\n",
    "bug_cycle(''.join([str(i) for i in d24]))\n",
    "# a24\n",
    "# a24 in array_list\n",
    "# for i, e in enumerate(a24):\n",
    "#     print(i,e)"
   ]
  },
  {
   "cell_type": "code",
   "execution_count": null,
   "metadata": {},
   "outputs": [],
   "source": []
  }
 ]
}